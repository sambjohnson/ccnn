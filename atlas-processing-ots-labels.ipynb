{
 "cells": [
  {
   "cell_type": "markdown",
   "id": "957a6bf3",
   "metadata": {},
   "source": [
    "\n",
    "# Atlas Processing - Initial Image Creation\n",
    "\n",
    "- Documentation: https://nilearn.github.io/auto_examples/01_plotting/plot_surf_atlas.html\n",
    "- Note: nilearn's 'surface.load_surface_data' function does not suppport .mgh / .mgz files; must use mri_convert or mris_convert (part of Freesurfer) to first convert to an acceptable format, e.g. .nii"
   ]
  },
  {
   "cell_type": "code",
   "execution_count": 1,
   "id": "9fc6eab9",
   "metadata": {},
   "outputs": [
    {
     "name": "stderr",
     "output_type": "stream",
     "text": [
      "/home/groups/jyeatman/software/anaconda3/envs/torch-ni-ny/lib/python3.9/site-packages/nilearn/datasets/__init__.py:93: FutureWarning: Fetchers from the nilearn.datasets module will be updated in version 0.9 to return python strings instead of bytes and Pandas dataframes instead of Numpy arrays.\n",
      "  warn(\"Fetchers from the nilearn.datasets module will be \"\n"
     ]
    }
   ],
   "source": [
    "import nilearn\n",
    "from nilearn import surface\n",
    "from nilearn import plotting\n",
    "\n",
    "import os\n",
    "import numpy as np\n",
    "import pandas as pd\n",
    "import matplotlib.pyplot as plt\n",
    "\n",
    "from PIL import Image, ImageOps\n",
    "import pickle\n",
    "import collections"
   ]
  },
  {
   "cell_type": "code",
   "execution_count": 2,
   "id": "6dd7408a",
   "metadata": {},
   "outputs": [],
   "source": [
    "from nilearn import datasets\n",
    "\n",
    "destrieux_atlas = datasets.fetch_atlas_surf_destrieux()\n",
    "destrieux_dict = dict(enumerate([str(l)[2:-1] for l in destrieux_atlas.labels]))"
   ]
  },
  {
   "cell_type": "markdown",
   "id": "a1765880",
   "metadata": {},
   "source": [
    "## 0. Set up directories"
   ]
  },
  {
   "cell_type": "code",
   "execution_count": 3,
   "id": "8e6bb06e",
   "metadata": {},
   "outputs": [],
   "source": [
    "# === DIRECTORIES === #\n",
    "\n",
    "# input data directories\n",
    "# overall format:\n",
    "# -- hbn_dir/sub-{EID}/label_subdir/parc_filename\n",
    "\n",
    "hbn_dir = '/oak/stanford/groups/jyeatman/HBN/BIDS_curated/derivatives/freesurfer'\n",
    "label_subdir = '/label'\n",
    "surf_subdir = '/surf'\n",
    "\n",
    "curv_filename = 'lh.curv'\n",
    "infl_filename = 'lh.inflated'\n",
    "pial_filename = 'lh.pial'\n",
    "parc_filename = 'lh.aparc.a2009s.annot'\n",
    "\n",
    "# output data directories\n",
    "out_data_dir = '/scratch/groups/jyeatman/samjohns-projects/data'\n",
    "image_out_subdir = 'parc-images'\n",
    "image_out_dir = out_data_dir + '/' + image_out_subdir\n",
    "image_out_dir\n",
    "os.makedirs(image_out_dir, exist_ok=True)  # ensure image output directory exists\n",
    "assert os.path.exists(image_out_dir)\n",
    "\n",
    "# === LABELS === #\n",
    "\n",
    "# important:\n",
    "# select a subset of labels that are visible in  ventral view\n",
    "# label = 43 was borderline and removed for convenience\n",
    "labels_to_plot = [2, 19, 21, 23, 24, 25, 30, 37, 38, 50, 51, 57, 58, 59, 60, 61, 63, 65]"
   ]
  },
  {
   "cell_type": "code",
   "execution_count": 5,
   "id": "555f4d8e",
   "metadata": {},
   "outputs": [],
   "source": [
    "label_subdir = 'label/manual_label'\n",
    "surf_subdir = 'surf'\n",
    "data_dir = '/oak/stanford/groups/jyeatman/samjohns/samjohns-projects-backup/ots-data'\n",
    "subjects = [s for s in os.listdir(data_dir) if 'long' in s] \n",
    "subjects.sort()"
   ]
  },
  {
   "cell_type": "markdown",
   "id": "186b6b64",
   "metadata": {},
   "source": [
    "## Make images"
   ]
  },
  {
   "cell_type": "code",
   "execution_count": 7,
   "id": "45b29f0a",
   "metadata": {},
   "outputs": [],
   "source": [
    "sub_dfs = []\n",
    "\n",
    "for sub in subjects:\n",
    "    \n",
    "    curv_file = os.path.join(data_dir, sub, surf_subdir, 'lh.curv')\n",
    "    infl_file = os.path.join(data_dir, sub, surf_subdir, 'lh.inflated')\n",
    "    label_dir = os.path.join(data_dir, sub, label_subdir)\n",
    "    label_files = [f for f in os.listdir(label_dir) if ('.label' in f) and ('lh.' in f)]\n",
    "\n",
    "    surf = surface.load_surf_mesh(infl_file)\n",
    "    curv = surface.load_surf_data(curv_file)\n",
    "\n",
    "    labels = []\n",
    "    for l in label_files:\n",
    "        labels.append(surface.load_surf_data(os.path.join(label_dir, l)))\n",
    "    \n",
    "    sub_df = pd.DataFrame({'Subject': sub, 'Filename': label_files, 'Label': labels, 'Mesh': [surf]*len(labels), 'Curv': [curv]*len(labels)})\n",
    "    sub_dfs.append(sub_df)\n",
    "    \n",
    "df = pd.concat(sub_dfs)"
   ]
  },
  {
   "cell_type": "code",
   "execution_count": 8,
   "id": "1e1f27b9",
   "metadata": {},
   "outputs": [],
   "source": [
    "all_label_files = list(df['Filename'].unique())\n",
    "all_labels = sorted([l.split('.')[1] for l in all_label_files if 'lh.' in l])\n",
    "\n",
    "l_inc = ['OTSa', 'OTSb', 'OTSc', 'OTSd', 'OTSe']\n",
    "df['LabelName'] = df['Filename'].apply(lambda l: l.split('.')[1])\n",
    "df_filtered = df[df['LabelName'].isin(l_inc)]\n",
    "label_to_index = dict(zip(l_inc, list(range(2, len(l_inc) + 2))))"
   ]
  },
  {
   "cell_type": "code",
   "execution_count": 9,
   "id": "e103d94d",
   "metadata": {
    "scrolled": true
   },
   "outputs": [
    {
     "name": "stderr",
     "output_type": "stream",
     "text": [
      "/tmp/ipykernel_27867/2004794661.py:1: SettingWithCopyWarning: \n",
      "A value is trying to be set on a copy of a slice from a DataFrame.\n",
      "Try using .loc[row_indexer,col_indexer] = value instead\n",
      "\n",
      "See the caveats in the documentation: https://pandas.pydata.org/pandas-docs/stable/user_guide/indexing.html#returning-a-view-versus-a-copy\n",
      "  df_filtered['LabelIndex'] = df_filtered['LabelName'].apply(lambda name: label_to_index[name])\n"
     ]
    }
   ],
   "source": [
    "df_filtered['LabelIndex'] = df_filtered['LabelName'].apply(lambda name: label_to_index[name])\n",
    "subjects_filtered = list(df_filtered['Subject'].unique())"
   ]
  },
  {
   "cell_type": "code",
   "execution_count": 10,
   "id": "5090b917",
   "metadata": {
    "scrolled": true
   },
   "outputs": [
    {
     "data": {
      "text/html": [
       "<div>\n",
       "<style scoped>\n",
       "    .dataframe tbody tr th:only-of-type {\n",
       "        vertical-align: middle;\n",
       "    }\n",
       "\n",
       "    .dataframe tbody tr th {\n",
       "        vertical-align: top;\n",
       "    }\n",
       "\n",
       "    .dataframe thead th {\n",
       "        text-align: right;\n",
       "    }\n",
       "</style>\n",
       "<table border=\"1\" class=\"dataframe\">\n",
       "  <thead>\n",
       "    <tr style=\"text-align: right;\">\n",
       "      <th></th>\n",
       "      <th>Subject</th>\n",
       "      <th>Filename</th>\n",
       "      <th>Label</th>\n",
       "      <th>Mesh</th>\n",
       "      <th>Curv</th>\n",
       "      <th>LabelName</th>\n",
       "      <th>LabelIndex</th>\n",
       "    </tr>\n",
       "  </thead>\n",
       "  <tbody>\n",
       "    <tr>\n",
       "      <th>4</th>\n",
       "      <td>5006_T1.long.5006</td>\n",
       "      <td>lh.OTSb.label</td>\n",
       "      <td>[40954, 40966, 40974, 41712, 41713, 41723, 417...</td>\n",
       "      <td>([[28.131681442260742, -119.46367645263672, -3...</td>\n",
       "      <td>[-0.30041084, -0.269485, -0.25894412, -0.29989...</td>\n",
       "      <td>OTSb</td>\n",
       "      <td>3</td>\n",
       "    </tr>\n",
       "    <tr>\n",
       "      <th>8</th>\n",
       "      <td>5006_T1.long.5006</td>\n",
       "      <td>lh.OTSa.label</td>\n",
       "      <td>[6507, 6518, 6996, 6997, 6998, 7006, 7007, 701...</td>\n",
       "      <td>([[28.131681442260742, -119.46367645263672, -3...</td>\n",
       "      <td>[-0.30041084, -0.269485, -0.25894412, -0.29989...</td>\n",
       "      <td>OTSa</td>\n",
       "      <td>2</td>\n",
       "    </tr>\n",
       "    <tr>\n",
       "      <th>4</th>\n",
       "      <td>5010_T1.long.5010</td>\n",
       "      <td>lh.OTSb.label</td>\n",
       "      <td>[16282, 16987, 16988, 16989, 16999, 17000, 170...</td>\n",
       "      <td>([[25.252391815185547, -132.74000549316406, -1...</td>\n",
       "      <td>[-0.4683316, -0.433789, -0.36071667, -0.276555...</td>\n",
       "      <td>OTSb</td>\n",
       "      <td>3</td>\n",
       "    </tr>\n",
       "    <tr>\n",
       "      <th>8</th>\n",
       "      <td>5010_T1.long.5010</td>\n",
       "      <td>lh.OTSa.label</td>\n",
       "      <td>[5356, 5787, 6235, 6236, 6237, 6249, 6250, 625...</td>\n",
       "      <td>([[25.252391815185547, -132.74000549316406, -1...</td>\n",
       "      <td>[-0.4683316, -0.433789, -0.36071667, -0.276555...</td>\n",
       "      <td>OTSa</td>\n",
       "      <td>2</td>\n",
       "    </tr>\n",
       "    <tr>\n",
       "      <th>13</th>\n",
       "      <td>5010_T1.long.5010</td>\n",
       "      <td>lh.OTSc.label</td>\n",
       "      <td>[32660, 32666, 32671, 32674, 32678, 32682, 332...</td>\n",
       "      <td>([[25.252391815185547, -132.74000549316406, -1...</td>\n",
       "      <td>[-0.4683316, -0.433789, -0.36071667, -0.276555...</td>\n",
       "      <td>OTSc</td>\n",
       "      <td>4</td>\n",
       "    </tr>\n",
       "    <tr>\n",
       "      <th>...</th>\n",
       "      <td>...</td>\n",
       "      <td>...</td>\n",
       "      <td>...</td>\n",
       "      <td>...</td>\n",
       "      <td>...</td>\n",
       "      <td>...</td>\n",
       "      <td>...</td>\n",
       "    </tr>\n",
       "    <tr>\n",
       "      <th>3</th>\n",
       "      <td>6120_T1.long.6120</td>\n",
       "      <td>lh.OTSb.label</td>\n",
       "      <td>[21125, 21126, 21127, 21128, 21129, 21138, 211...</td>\n",
       "      <td>([[18.317821502685547, -130.4791717529297, -35...</td>\n",
       "      <td>[-0.33051383, -0.18729879, -0.39520746, -0.293...</td>\n",
       "      <td>OTSb</td>\n",
       "      <td>3</td>\n",
       "    </tr>\n",
       "    <tr>\n",
       "      <th>6</th>\n",
       "      <td>6120_T1.long.6120</td>\n",
       "      <td>lh.OTSa.label</td>\n",
       "      <td>[8947, 8968, 9553, 9554, 9555, 9568, 9569, 957...</td>\n",
       "      <td>([[18.317821502685547, -130.4791717529297, -35...</td>\n",
       "      <td>[-0.33051383, -0.18729879, -0.39520746, -0.293...</td>\n",
       "      <td>OTSa</td>\n",
       "      <td>2</td>\n",
       "    </tr>\n",
       "    <tr>\n",
       "      <th>10</th>\n",
       "      <td>6120_T1.long.6120</td>\n",
       "      <td>lh.OTSc.label</td>\n",
       "      <td>[47369, 47370, 47371, 47378, 47379, 47380, 473...</td>\n",
       "      <td>([[18.317821502685547, -130.4791717529297, -35...</td>\n",
       "      <td>[-0.33051383, -0.18729879, -0.39520746, -0.293...</td>\n",
       "      <td>OTSc</td>\n",
       "      <td>4</td>\n",
       "    </tr>\n",
       "    <tr>\n",
       "      <th>3</th>\n",
       "      <td>6121_T1.long.6121</td>\n",
       "      <td>lh.OTSb.label</td>\n",
       "      <td>[31509, 31510, 31515, 31516, 31517, 31522, 315...</td>\n",
       "      <td>([[33.06694412231445, -120.617919921875, -3.54...</td>\n",
       "      <td>[-0.14980099, -0.09487074, -0.24212323, -0.296...</td>\n",
       "      <td>OTSb</td>\n",
       "      <td>3</td>\n",
       "    </tr>\n",
       "    <tr>\n",
       "      <th>6</th>\n",
       "      <td>6121_T1.long.6121</td>\n",
       "      <td>lh.OTSa.label</td>\n",
       "      <td>[13488, 14066, 14075, 14081, 14087, 14098, 145...</td>\n",
       "      <td>([[33.06694412231445, -120.617919921875, -3.54...</td>\n",
       "      <td>[-0.14980099, -0.09487074, -0.24212323, -0.296...</td>\n",
       "      <td>OTSa</td>\n",
       "      <td>2</td>\n",
       "    </tr>\n",
       "  </tbody>\n",
       "</table>\n",
       "<p>106 rows × 7 columns</p>\n",
       "</div>"
      ],
      "text/plain": [
       "              Subject       Filename  \\\n",
       "4   5006_T1.long.5006  lh.OTSb.label   \n",
       "8   5006_T1.long.5006  lh.OTSa.label   \n",
       "4   5010_T1.long.5010  lh.OTSb.label   \n",
       "8   5010_T1.long.5010  lh.OTSa.label   \n",
       "13  5010_T1.long.5010  lh.OTSc.label   \n",
       "..                ...            ...   \n",
       "3   6120_T1.long.6120  lh.OTSb.label   \n",
       "6   6120_T1.long.6120  lh.OTSa.label   \n",
       "10  6120_T1.long.6120  lh.OTSc.label   \n",
       "3   6121_T1.long.6121  lh.OTSb.label   \n",
       "6   6121_T1.long.6121  lh.OTSa.label   \n",
       "\n",
       "                                                Label  \\\n",
       "4   [40954, 40966, 40974, 41712, 41713, 41723, 417...   \n",
       "8   [6507, 6518, 6996, 6997, 6998, 7006, 7007, 701...   \n",
       "4   [16282, 16987, 16988, 16989, 16999, 17000, 170...   \n",
       "8   [5356, 5787, 6235, 6236, 6237, 6249, 6250, 625...   \n",
       "13  [32660, 32666, 32671, 32674, 32678, 32682, 332...   \n",
       "..                                                ...   \n",
       "3   [21125, 21126, 21127, 21128, 21129, 21138, 211...   \n",
       "6   [8947, 8968, 9553, 9554, 9555, 9568, 9569, 957...   \n",
       "10  [47369, 47370, 47371, 47378, 47379, 47380, 473...   \n",
       "3   [31509, 31510, 31515, 31516, 31517, 31522, 315...   \n",
       "6   [13488, 14066, 14075, 14081, 14087, 14098, 145...   \n",
       "\n",
       "                                                 Mesh  \\\n",
       "4   ([[28.131681442260742, -119.46367645263672, -3...   \n",
       "8   ([[28.131681442260742, -119.46367645263672, -3...   \n",
       "4   ([[25.252391815185547, -132.74000549316406, -1...   \n",
       "8   ([[25.252391815185547, -132.74000549316406, -1...   \n",
       "13  ([[25.252391815185547, -132.74000549316406, -1...   \n",
       "..                                                ...   \n",
       "3   ([[18.317821502685547, -130.4791717529297, -35...   \n",
       "6   ([[18.317821502685547, -130.4791717529297, -35...   \n",
       "10  ([[18.317821502685547, -130.4791717529297, -35...   \n",
       "3   ([[33.06694412231445, -120.617919921875, -3.54...   \n",
       "6   ([[33.06694412231445, -120.617919921875, -3.54...   \n",
       "\n",
       "                                                 Curv LabelName  LabelIndex  \n",
       "4   [-0.30041084, -0.269485, -0.25894412, -0.29989...      OTSb           3  \n",
       "8   [-0.30041084, -0.269485, -0.25894412, -0.29989...      OTSa           2  \n",
       "4   [-0.4683316, -0.433789, -0.36071667, -0.276555...      OTSb           3  \n",
       "8   [-0.4683316, -0.433789, -0.36071667, -0.276555...      OTSa           2  \n",
       "13  [-0.4683316, -0.433789, -0.36071667, -0.276555...      OTSc           4  \n",
       "..                                                ...       ...         ...  \n",
       "3   [-0.33051383, -0.18729879, -0.39520746, -0.293...      OTSb           3  \n",
       "6   [-0.33051383, -0.18729879, -0.39520746, -0.293...      OTSa           2  \n",
       "10  [-0.33051383, -0.18729879, -0.39520746, -0.293...      OTSc           4  \n",
       "3   [-0.14980099, -0.09487074, -0.24212323, -0.296...      OTSb           3  \n",
       "6   [-0.14980099, -0.09487074, -0.24212323, -0.296...      OTSa           2  \n",
       "\n",
       "[106 rows x 7 columns]"
      ]
     },
     "execution_count": 10,
     "metadata": {},
     "output_type": "execute_result"
    }
   ],
   "source": [
    "df_filtered"
   ]
  },
  {
   "cell_type": "code",
   "execution_count": 11,
   "id": "1ca60259",
   "metadata": {},
   "outputs": [
    {
     "data": {
      "text/html": [
       "<div>\n",
       "<style scoped>\n",
       "    .dataframe tbody tr th:only-of-type {\n",
       "        vertical-align: middle;\n",
       "    }\n",
       "\n",
       "    .dataframe tbody tr th {\n",
       "        vertical-align: top;\n",
       "    }\n",
       "\n",
       "    .dataframe thead th {\n",
       "        text-align: right;\n",
       "    }\n",
       "</style>\n",
       "<table border=\"1\" class=\"dataframe\">\n",
       "  <thead>\n",
       "    <tr style=\"text-align: right;\">\n",
       "      <th></th>\n",
       "      <th>Subject</th>\n",
       "      <th>Filename</th>\n",
       "      <th>Label</th>\n",
       "      <th>Mesh</th>\n",
       "      <th>Curv</th>\n",
       "      <th>LabelName</th>\n",
       "      <th>LabelIndex</th>\n",
       "    </tr>\n",
       "  </thead>\n",
       "  <tbody>\n",
       "    <tr>\n",
       "      <th>4</th>\n",
       "      <td>5006_T1.long.5006</td>\n",
       "      <td>lh.OTSb.label</td>\n",
       "      <td>[40954, 40966, 40974, 41712, 41713, 41723, 417...</td>\n",
       "      <td>([[28.131681442260742, -119.46367645263672, -3...</td>\n",
       "      <td>[-0.30041084, -0.269485, -0.25894412, -0.29989...</td>\n",
       "      <td>OTSb</td>\n",
       "      <td>3</td>\n",
       "    </tr>\n",
       "    <tr>\n",
       "      <th>8</th>\n",
       "      <td>5006_T1.long.5006</td>\n",
       "      <td>lh.OTSa.label</td>\n",
       "      <td>[6507, 6518, 6996, 6997, 6998, 7006, 7007, 701...</td>\n",
       "      <td>([[28.131681442260742, -119.46367645263672, -3...</td>\n",
       "      <td>[-0.30041084, -0.269485, -0.25894412, -0.29989...</td>\n",
       "      <td>OTSa</td>\n",
       "      <td>2</td>\n",
       "    </tr>\n",
       "    <tr>\n",
       "      <th>4</th>\n",
       "      <td>5010_T1.long.5010</td>\n",
       "      <td>lh.OTSb.label</td>\n",
       "      <td>[16282, 16987, 16988, 16989, 16999, 17000, 170...</td>\n",
       "      <td>([[25.252391815185547, -132.74000549316406, -1...</td>\n",
       "      <td>[-0.4683316, -0.433789, -0.36071667, -0.276555...</td>\n",
       "      <td>OTSb</td>\n",
       "      <td>3</td>\n",
       "    </tr>\n",
       "    <tr>\n",
       "      <th>8</th>\n",
       "      <td>5010_T1.long.5010</td>\n",
       "      <td>lh.OTSa.label</td>\n",
       "      <td>[5356, 5787, 6235, 6236, 6237, 6249, 6250, 625...</td>\n",
       "      <td>([[25.252391815185547, -132.74000549316406, -1...</td>\n",
       "      <td>[-0.4683316, -0.433789, -0.36071667, -0.276555...</td>\n",
       "      <td>OTSa</td>\n",
       "      <td>2</td>\n",
       "    </tr>\n",
       "    <tr>\n",
       "      <th>13</th>\n",
       "      <td>5010_T1.long.5010</td>\n",
       "      <td>lh.OTSc.label</td>\n",
       "      <td>[32660, 32666, 32671, 32674, 32678, 32682, 332...</td>\n",
       "      <td>([[25.252391815185547, -132.74000549316406, -1...</td>\n",
       "      <td>[-0.4683316, -0.433789, -0.36071667, -0.276555...</td>\n",
       "      <td>OTSc</td>\n",
       "      <td>4</td>\n",
       "    </tr>\n",
       "    <tr>\n",
       "      <th>...</th>\n",
       "      <td>...</td>\n",
       "      <td>...</td>\n",
       "      <td>...</td>\n",
       "      <td>...</td>\n",
       "      <td>...</td>\n",
       "      <td>...</td>\n",
       "      <td>...</td>\n",
       "    </tr>\n",
       "    <tr>\n",
       "      <th>3</th>\n",
       "      <td>6120_T1.long.6120</td>\n",
       "      <td>lh.OTSb.label</td>\n",
       "      <td>[21125, 21126, 21127, 21128, 21129, 21138, 211...</td>\n",
       "      <td>([[18.317821502685547, -130.4791717529297, -35...</td>\n",
       "      <td>[-0.33051383, -0.18729879, -0.39520746, -0.293...</td>\n",
       "      <td>OTSb</td>\n",
       "      <td>3</td>\n",
       "    </tr>\n",
       "    <tr>\n",
       "      <th>6</th>\n",
       "      <td>6120_T1.long.6120</td>\n",
       "      <td>lh.OTSa.label</td>\n",
       "      <td>[8947, 8968, 9553, 9554, 9555, 9568, 9569, 957...</td>\n",
       "      <td>([[18.317821502685547, -130.4791717529297, -35...</td>\n",
       "      <td>[-0.33051383, -0.18729879, -0.39520746, -0.293...</td>\n",
       "      <td>OTSa</td>\n",
       "      <td>2</td>\n",
       "    </tr>\n",
       "    <tr>\n",
       "      <th>10</th>\n",
       "      <td>6120_T1.long.6120</td>\n",
       "      <td>lh.OTSc.label</td>\n",
       "      <td>[47369, 47370, 47371, 47378, 47379, 47380, 473...</td>\n",
       "      <td>([[18.317821502685547, -130.4791717529297, -35...</td>\n",
       "      <td>[-0.33051383, -0.18729879, -0.39520746, -0.293...</td>\n",
       "      <td>OTSc</td>\n",
       "      <td>4</td>\n",
       "    </tr>\n",
       "    <tr>\n",
       "      <th>3</th>\n",
       "      <td>6121_T1.long.6121</td>\n",
       "      <td>lh.OTSb.label</td>\n",
       "      <td>[31509, 31510, 31515, 31516, 31517, 31522, 315...</td>\n",
       "      <td>([[33.06694412231445, -120.617919921875, -3.54...</td>\n",
       "      <td>[-0.14980099, -0.09487074, -0.24212323, -0.296...</td>\n",
       "      <td>OTSb</td>\n",
       "      <td>3</td>\n",
       "    </tr>\n",
       "    <tr>\n",
       "      <th>6</th>\n",
       "      <td>6121_T1.long.6121</td>\n",
       "      <td>lh.OTSa.label</td>\n",
       "      <td>[13488, 14066, 14075, 14081, 14087, 14098, 145...</td>\n",
       "      <td>([[33.06694412231445, -120.617919921875, -3.54...</td>\n",
       "      <td>[-0.14980099, -0.09487074, -0.24212323, -0.296...</td>\n",
       "      <td>OTSa</td>\n",
       "      <td>2</td>\n",
       "    </tr>\n",
       "  </tbody>\n",
       "</table>\n",
       "<p>106 rows × 7 columns</p>\n",
       "</div>"
      ],
      "text/plain": [
       "              Subject       Filename  \\\n",
       "4   5006_T1.long.5006  lh.OTSb.label   \n",
       "8   5006_T1.long.5006  lh.OTSa.label   \n",
       "4   5010_T1.long.5010  lh.OTSb.label   \n",
       "8   5010_T1.long.5010  lh.OTSa.label   \n",
       "13  5010_T1.long.5010  lh.OTSc.label   \n",
       "..                ...            ...   \n",
       "3   6120_T1.long.6120  lh.OTSb.label   \n",
       "6   6120_T1.long.6120  lh.OTSa.label   \n",
       "10  6120_T1.long.6120  lh.OTSc.label   \n",
       "3   6121_T1.long.6121  lh.OTSb.label   \n",
       "6   6121_T1.long.6121  lh.OTSa.label   \n",
       "\n",
       "                                                Label  \\\n",
       "4   [40954, 40966, 40974, 41712, 41713, 41723, 417...   \n",
       "8   [6507, 6518, 6996, 6997, 6998, 7006, 7007, 701...   \n",
       "4   [16282, 16987, 16988, 16989, 16999, 17000, 170...   \n",
       "8   [5356, 5787, 6235, 6236, 6237, 6249, 6250, 625...   \n",
       "13  [32660, 32666, 32671, 32674, 32678, 32682, 332...   \n",
       "..                                                ...   \n",
       "3   [21125, 21126, 21127, 21128, 21129, 21138, 211...   \n",
       "6   [8947, 8968, 9553, 9554, 9555, 9568, 9569, 957...   \n",
       "10  [47369, 47370, 47371, 47378, 47379, 47380, 473...   \n",
       "3   [31509, 31510, 31515, 31516, 31517, 31522, 315...   \n",
       "6   [13488, 14066, 14075, 14081, 14087, 14098, 145...   \n",
       "\n",
       "                                                 Mesh  \\\n",
       "4   ([[28.131681442260742, -119.46367645263672, -3...   \n",
       "8   ([[28.131681442260742, -119.46367645263672, -3...   \n",
       "4   ([[25.252391815185547, -132.74000549316406, -1...   \n",
       "8   ([[25.252391815185547, -132.74000549316406, -1...   \n",
       "13  ([[25.252391815185547, -132.74000549316406, -1...   \n",
       "..                                                ...   \n",
       "3   ([[18.317821502685547, -130.4791717529297, -35...   \n",
       "6   ([[18.317821502685547, -130.4791717529297, -35...   \n",
       "10  ([[18.317821502685547, -130.4791717529297, -35...   \n",
       "3   ([[33.06694412231445, -120.617919921875, -3.54...   \n",
       "6   ([[33.06694412231445, -120.617919921875, -3.54...   \n",
       "\n",
       "                                                 Curv LabelName  LabelIndex  \n",
       "4   [-0.30041084, -0.269485, -0.25894412, -0.29989...      OTSb           3  \n",
       "8   [-0.30041084, -0.269485, -0.25894412, -0.29989...      OTSa           2  \n",
       "4   [-0.4683316, -0.433789, -0.36071667, -0.276555...      OTSb           3  \n",
       "8   [-0.4683316, -0.433789, -0.36071667, -0.276555...      OTSa           2  \n",
       "13  [-0.4683316, -0.433789, -0.36071667, -0.276555...      OTSc           4  \n",
       "..                                                ...       ...         ...  \n",
       "3   [-0.33051383, -0.18729879, -0.39520746, -0.293...      OTSb           3  \n",
       "6   [-0.33051383, -0.18729879, -0.39520746, -0.293...      OTSa           2  \n",
       "10  [-0.33051383, -0.18729879, -0.39520746, -0.293...      OTSc           4  \n",
       "3   [-0.14980099, -0.09487074, -0.24212323, -0.296...      OTSb           3  \n",
       "6   [-0.14980099, -0.09487074, -0.24212323, -0.296...      OTSa           2  \n",
       "\n",
       "[106 rows x 7 columns]"
      ]
     },
     "execution_count": 11,
     "metadata": {},
     "output_type": "execute_result"
    }
   ],
   "source": [
    "df_filtered.sort_values('Subject')"
   ]
  },
  {
   "cell_type": "code",
   "execution_count": 9,
   "id": "e9238972",
   "metadata": {},
   "outputs": [],
   "source": [
    "def make_subject_stat_map(sub, df, return_mesh=True):\n",
    "\n",
    "    sub_df = df[df['Subject'] == sub]\n",
    "\n",
    "    sub_mesh = sub_df['Mesh'].iloc[0]\n",
    "    sub_labs = list(sub_df['Label'])\n",
    "    sub_inds = list(sub_df['LabelIndex']) \n",
    "\n",
    "    c = sub_mesh.coordinates.shape[0]\n",
    "    m = np.ones(c)\n",
    "    \n",
    "    for l, i in zip(sub_labs, sub_inds):\n",
    "        m[l] = float(i)\n",
    "    \n",
    "    if return_mesh:\n",
    "        return m, sub_mesh\n",
    "    else:\n",
    "        return m"
   ]
  },
  {
   "cell_type": "code",
   "execution_count": 12,
   "id": "b6c327a0",
   "metadata": {},
   "outputs": [],
   "source": [
    "def make_single_image(mesh, stat_map, bg=None,\n",
    "                      view=[210., 90.], output_file=None, \n",
    "                      fig=None, ax=None, title=None, cmap='tab20'):\n",
    "    \n",
    "    if (fig is None) or (ax is None):\n",
    "        fig, ax = plt.subplots(figsize=(8, 8))\n",
    "    \n",
    "    fig.suptitle(title)\n",
    "    \n",
    "    plotting.plot_surf_roi(mesh, stat_map\n",
    "                           ,view=view\n",
    "                           ,bg_map=bg\n",
    "                           ,vmax=6.0\n",
    "                           ,vmin=1.0\n",
    "                           # ,bg_on_data=True\n",
    "                           ,figure=fig\n",
    "                           ,cmap=cmap\n",
    "                           #,output_file=output_file   \n",
    "                           #,threshold=20.01\n",
    "                           #,colorbar=True\n",
    "                          )"
   ]
  },
  {
   "cell_type": "markdown",
   "id": "ed7679ed",
   "metadata": {},
   "source": [
    "## General image-creation pipeline"
   ]
  },
  {
   "cell_type": "code",
   "execution_count": 13,
   "id": "764a622a",
   "metadata": {},
   "outputs": [],
   "source": [
    "from matplotlib import colors\n",
    "cmap = colors.ListedColormap(['blue', 'green', 'yellow', 'red', 'purple'])\n",
    "bounds = [1, 2, 3, 4, 5, 6]"
   ]
  },
  {
   "cell_type": "code",
   "execution_count": 12,
   "id": "b09d42ab",
   "metadata": {},
   "outputs": [],
   "source": [
    "out_base_dir = '/scratch/groups/jyeatman/samjohns-projects/data'\n",
    "out_parc_dir = out_base_dir + '/ots-parc-images-jitter'\n",
    "out_curv_dir = out_base_dir + '/ots-curv-images-jitter'\n",
    "os.makedirs(out_parc_dir, exist_ok=True)\n",
    "os.makedirs(out_curv_dir, exist_ok=True)"
   ]
  },
  {
   "cell_type": "code",
   "execution_count": 13,
   "id": "d1b86605",
   "metadata": {},
   "outputs": [],
   "source": [
    "def make_angles(njitter=20, scale=30, base_angle=None):\n",
    "    noise = scale * (np.random.rand(njitter, 2) - 0.5)\n",
    "    if base_angle is None:\n",
    "        base_angle = np.array([210.0, 90.0])\n",
    "    return noise + base_angle\n",
    "\n",
    "def get_subject_labels(sub, df):\n",
    "    curv = df[df['Subject'] == sub]['Curv'].iloc[0]\n",
    "    stat, mesh = make_subject_stat_map(sub, df)\n",
    "    return mesh, stat, curv\n",
    "\n",
    "def make_ots_subject_images(sub, df, out_parc_path, out_curv_path, \n",
    "                            jitter=True, \n",
    "                            make_curv=True, \n",
    "                            cmap='tab20',\n",
    "                            vmin=None, \n",
    "                            vmax=None):\n",
    "        \n",
    "    if jitter:\n",
    "        angles = make_angles()\n",
    "    else:\n",
    "        angles = [[210.0, 90.0]]\n",
    "\n",
    "    infl, stat, curv = get_subject_labels(sub, df)\n",
    "    \n",
    "    for a in angles:\n",
    "        \n",
    "        fig, ax = plt.subplots(figsize=(8, 8))\n",
    "        plotting.plot_surf_roi(infl, stat\n",
    "                               ,view=(a[0], a[1])\n",
    "                               # ,bg_map=test_curv\n",
    "                               # ,bg_on_data=True \n",
    "                               ,figure=fig\n",
    "                               ,cmap=cmap\n",
    "                               ,output_file=f'{out_parc_path}/{sub}-{a[0]:.2f}-{a[1]:.2f}-parc.png'\n",
    "                               ,vmin=vmin\n",
    "                               ,vmax=vmax\n",
    "                               # ,threshold=25.0\n",
    "                               # colorbar=True\n",
    "                              )\n",
    "\n",
    "        if make_curv:\n",
    "            fig,  ax = plt.subplots(figsize=(8, 8))\n",
    "            plotting.plot_surf_roi(infl, stat\n",
    "                                   ,view=(a[0], a[1])\n",
    "                                   ,bg_map=curv\n",
    "                                   # ,bg_on_data=True \n",
    "                                   ,figure=fig\n",
    "                                   ,cmap=None\n",
    "                                   ,threshold=25.0\n",
    "                                   ,output_file=f'{out_curv_path}/{sub}-{a[0]:.2f}-{a[1]:.2f}-curv.png'\n",
    "                                   # colorbar=True\n",
    "                                  )\n",
    "        \n",
    "    return"
   ]
  },
  {
   "cell_type": "code",
   "execution_count": 14,
   "id": "5fbf8464",
   "metadata": {},
   "outputs": [],
   "source": [
    "# main loop: don't execute this cell unless you want to go grab a coffee\n",
    "run = False\n",
    "\n",
    "if run:\n",
    "    for sub in subjects_filtered:\n",
    "        make_ots_subject_images(sub, df_filtered, \n",
    "                                out_parc_path=out_parc_dir, \n",
    "                                out_curv_path=out_curv_dir, \n",
    "                                cmap=cmap, \n",
    "                                vmin=1.0, \n",
    "                                vmax=6.0)\n",
    "        \n",
    "        print(f'{sub} completed ....')"
   ]
  },
  {
   "cell_type": "code",
   "execution_count": 24,
   "id": "e8a951c0",
   "metadata": {},
   "outputs": [],
   "source": [
    "# ots curv directories\n",
    "curv_dir = '/scratch/groups/jyeatman/samjohns-projects/data/curv-images-jitter'\n",
    "curv_mask_dir = '/scratch/groups/jyeatman/samjohns-projects/data/curv-mask-jitter'\n",
    "os.makedirs(ots_curv_mask_dir , exist_ok=True)\n",
    "\n",
    "# load previous angles\n",
    "made_curvs = os.listdir(curv_dir)\n",
    "made_curv_masks = os.listdir(curv_mask_dir)"
   ]
  },
  {
   "cell_type": "code",
   "execution_count": 30,
   "id": "f795b619",
   "metadata": {},
   "outputs": [],
   "source": [
    "in_dir = '/scratch/users/samjohns/samjohns-projects/data/parc-images-jitter'\n",
    "out_dir = curv_mask_dir\n",
    "made_curvs = os.listdir(in_dir)"
   ]
  },
  {
   "cell_type": "code",
   "execution_count": 31,
   "id": "6b607fdb",
   "metadata": {},
   "outputs": [
    {
     "ename": "ValueError",
     "evalue": "could not convert string to float: 'NDARNE511XHU'",
     "output_type": "error",
     "traceback": [
      "\u001b[0;31m---------------------------------------------------------------------------\u001b[0m",
      "\u001b[0;31mValueError\u001b[0m                                Traceback (most recent call last)",
      "\u001b[0;32m/tmp/ipykernel_8989/2300093622.py\u001b[0m in \u001b[0;36m<module>\u001b[0;34m\u001b[0m\n\u001b[1;32m      5\u001b[0m \u001b[0;34m\u001b[0m\u001b[0m\n\u001b[1;32m      6\u001b[0m     \u001b[0mmsplit\u001b[0m \u001b[0;34m=\u001b[0m \u001b[0mm\u001b[0m\u001b[0;34m.\u001b[0m\u001b[0msplit\u001b[0m\u001b[0;34m(\u001b[0m\u001b[0;34m'-'\u001b[0m\u001b[0;34m)\u001b[0m\u001b[0;34m\u001b[0m\u001b[0;34m\u001b[0m\u001b[0m\n\u001b[0;32m----> 7\u001b[0;31m     \u001b[0mangles\u001b[0m \u001b[0;34m=\u001b[0m \u001b[0;34m[\u001b[0m\u001b[0mfloat\u001b[0m\u001b[0;34m(\u001b[0m\u001b[0ma\u001b[0m\u001b[0;34m)\u001b[0m \u001b[0;32mfor\u001b[0m \u001b[0ma\u001b[0m \u001b[0;32min\u001b[0m \u001b[0mmsplit\u001b[0m\u001b[0;34m[\u001b[0m\u001b[0;36m1\u001b[0m\u001b[0;34m:\u001b[0m\u001b[0;36m3\u001b[0m\u001b[0;34m]\u001b[0m\u001b[0;34m]\u001b[0m\u001b[0;34m\u001b[0m\u001b[0;34m\u001b[0m\u001b[0m\n\u001b[0m\u001b[1;32m      8\u001b[0m     \u001b[0msubject\u001b[0m \u001b[0;34m=\u001b[0m \u001b[0mmsplit\u001b[0m\u001b[0;34m[\u001b[0m\u001b[0;36m0\u001b[0m\u001b[0;34m]\u001b[0m\u001b[0;34m\u001b[0m\u001b[0;34m\u001b[0m\u001b[0m\n\u001b[1;32m      9\u001b[0m \u001b[0;34m\u001b[0m\u001b[0m\n",
      "\u001b[0;32m/tmp/ipykernel_8989/2300093622.py\u001b[0m in \u001b[0;36m<listcomp>\u001b[0;34m(.0)\u001b[0m\n\u001b[1;32m      5\u001b[0m \u001b[0;34m\u001b[0m\u001b[0m\n\u001b[1;32m      6\u001b[0m     \u001b[0mmsplit\u001b[0m \u001b[0;34m=\u001b[0m \u001b[0mm\u001b[0m\u001b[0;34m.\u001b[0m\u001b[0msplit\u001b[0m\u001b[0;34m(\u001b[0m\u001b[0;34m'-'\u001b[0m\u001b[0;34m)\u001b[0m\u001b[0;34m\u001b[0m\u001b[0;34m\u001b[0m\u001b[0m\n\u001b[0;32m----> 7\u001b[0;31m     \u001b[0mangles\u001b[0m \u001b[0;34m=\u001b[0m \u001b[0;34m[\u001b[0m\u001b[0mfloat\u001b[0m\u001b[0;34m(\u001b[0m\u001b[0ma\u001b[0m\u001b[0;34m)\u001b[0m \u001b[0;32mfor\u001b[0m \u001b[0ma\u001b[0m \u001b[0;32min\u001b[0m \u001b[0mmsplit\u001b[0m\u001b[0;34m[\u001b[0m\u001b[0;36m1\u001b[0m\u001b[0;34m:\u001b[0m\u001b[0;36m3\u001b[0m\u001b[0;34m]\u001b[0m\u001b[0;34m]\u001b[0m\u001b[0;34m\u001b[0m\u001b[0;34m\u001b[0m\u001b[0m\n\u001b[0m\u001b[1;32m      8\u001b[0m     \u001b[0msubject\u001b[0m \u001b[0;34m=\u001b[0m \u001b[0mmsplit\u001b[0m\u001b[0;34m[\u001b[0m\u001b[0;36m0\u001b[0m\u001b[0;34m]\u001b[0m\u001b[0;34m\u001b[0m\u001b[0;34m\u001b[0m\u001b[0m\n\u001b[1;32m      9\u001b[0m \u001b[0;34m\u001b[0m\u001b[0m\n",
      "\u001b[0;31mValueError\u001b[0m: could not convert string to float: 'NDARNE511XHU'"
     ]
    }
   ],
   "source": [
    "made_subjects = []\n",
    "made_angles = []\n",
    "\n",
    "for m in made_curvs:\n",
    "    \n",
    "    msplit = m.split('-')\n",
    "    angles = [float(a) for a in msplit[1:3]]\n",
    "    subject = msplit[0]\n",
    "    \n",
    "    made_subjects.append(subject)\n",
    "    made_angles.append(angles)\n",
    "\n",
    "made_mask_subjects = []\n",
    "made_mask_angles = []\n",
    "\n",
    "for m in made_curv_masks:\n",
    "    \n",
    "    msplit = m.split('-')\n",
    "    angles = [float(a) for a in msplit[1:3]]\n",
    "    subject = msplit[0]\n",
    "    \n",
    "    made_mask_subjects.append(subject)\n",
    "    made_mask_angles.append(angles)"
   ]
  },
  {
   "cell_type": "code",
   "execution_count": 34,
   "id": "f5ed3cfd",
   "metadata": {},
   "outputs": [
    {
     "data": {
      "text/plain": [
       "['sub', 'NDARNE511XHU', '221.65', '85.47', 'parc.png']"
      ]
     },
     "execution_count": 34,
     "metadata": {},
     "output_type": "execute_result"
    }
   ],
   "source": [
    "made_curvs[0].split('-')"
   ]
  },
  {
   "cell_type": "code",
   "execution_count": 22,
   "id": "26ff4b41",
   "metadata": {},
   "outputs": [],
   "source": [
    "made_df = pd.DataFrame({'Subject': made_subjects, 'Angles': made_angles})\n",
    "made_mask_df = pd.DataFrame({'Subject': made_mask_subjects, 'Angles': made_mask_angles})"
   ]
  },
  {
   "cell_type": "code",
   "execution_count": 23,
   "id": "c744ce2a",
   "metadata": {},
   "outputs": [
    {
     "data": {
      "text/plain": [
       "800"
      ]
     },
     "execution_count": 23,
     "metadata": {},
     "output_type": "execute_result"
    }
   ],
   "source": [
    "len(made_mask_df)"
   ]
  },
  {
   "cell_type": "code",
   "execution_count": 42,
   "id": "7d96812e",
   "metadata": {},
   "outputs": [],
   "source": [
    "row = made_mask_df.iloc[0]\n",
    "sub = row[0]\n",
    "a = row[1]"
   ]
  },
  {
   "cell_type": "code",
   "execution_count": 54,
   "id": "e8e126cd",
   "metadata": {},
   "outputs": [],
   "source": [
    "subangles = list(made_mask_df[made_mask_df.Subject == 'angela']['Angles'])"
   ]
  },
  {
   "cell_type": "code",
   "execution_count": 55,
   "id": "a2f75d67",
   "metadata": {},
   "outputs": [
    {
     "data": {
      "text/plain": [
       "0"
      ]
     },
     "execution_count": 55,
     "metadata": {},
     "output_type": "execute_result"
    }
   ],
   "source": [
    "len(subangles)"
   ]
  },
  {
   "cell_type": "code",
   "execution_count": 51,
   "id": "56db88a5",
   "metadata": {
    "scrolled": true
   },
   "outputs": [
    {
     "data": {
      "text/plain": [
       "True"
      ]
     },
     "execution_count": 51,
     "metadata": {},
     "output_type": "execute_result"
    }
   ],
   "source": [
    "a in subangles"
   ]
  },
  {
   "cell_type": "code",
   "execution_count": 63,
   "id": "40cbb381",
   "metadata": {},
   "outputs": [
    {
     "data": {
      "text/plain": [
       "['6117_T1.long.6117', '6121_T1.long.6121', '6120_T1.long.6120']"
      ]
     },
     "execution_count": 63,
     "metadata": {},
     "output_type": "execute_result"
    }
   ],
   "source": [
    "remaining_subjects = list(set(made_df['Subject']) - set(made_mask_df['Subject']))\n",
    "remaining_subjects"
   ]
  },
  {
   "cell_type": "code",
   "execution_count": 64,
   "id": "2a8ed51c",
   "metadata": {},
   "outputs": [],
   "source": [
    "for sub in remaining_subjects:\n",
    "    # get subject data\n",
    "    sub_df = df_filtered[df_filtered.Subject == sub]\n",
    "    mesh = list(sub_df['Mesh'])[0]\n",
    "    curv = list(sub_df['Curv'])[0]\n",
    "    # make curvature mask\n",
    "    curv_mask = np.zeros_like(curv)\n",
    "    curv_mask[curv > 0] = 1.0\n",
    "    \n",
    "    # get subject angles\n",
    "    subj_angles = list(made_df[made_df['Subject']==sub]['Angles'])\n",
    "    \n",
    "    # make images, one per view\n",
    "    for a in subj_angles:\n",
    "        fig, ax = plt.subplots(figsize=(8, 8))\n",
    "        plotting.plot_surf_roi(mesh, curv_mask\n",
    "            ,view=a\n",
    "            # ,bg_on_data=True \n",
    "            ,figure=fig\n",
    "            ,cmap='gray'\n",
    "            ,threshold=0.0\n",
    "            ,output_file=f'{ots_curv_mask_dir}/{sub}-{a[0]:.2f}-{a[1]:.2f}-curv-mask.png'\n",
    "            # ,colorbar=True\n",
    "            )"
   ]
  },
  {
   "cell_type": "code",
   "execution_count": 33,
   "id": "e2e6dd73",
   "metadata": {
    "scrolled": true
   },
   "outputs": [
    {
     "data": {
      "image/png": "[encoded data removed]",
      "text/plain": [
       "<Figure size 576x576 with 2 Axes>"
      ]
     },
     "execution_count": 33,
     "metadata": {},
     "output_type": "execute_result"
    },
    {
     "data": {
      "image/png": "[encoded data removed]",
      "text/plain": [
       "<Figure size 576x576 with 2 Axes>"
      ]
     },
     "metadata": {
      "needs_background": "light"
     },
     "output_type": "display_data"
    }
   ],
   "source": [
    "fig, ax = plt.subplots(figsize=(8, 8))\n",
    "plotting.plot_surf_roi(mesh, curv_mask\n",
    "    ,view=(210.0, 90.0)\n",
    "    # ,bg_on_data=True \n",
    "    ,figure=fig\n",
    "    ,cmap='gray'\n",
    "    ,threshold=0.0\n",
    "    # ,output_file=f'{out_curv_path}/{sub}-{a[0]:.2f}-{a[1]:.2f}-curv.png'\n",
    "    # ,colorbar=True\n",
    "    )"
   ]
  },
  {
   "cell_type": "code",
   "execution_count": 35,
   "id": "75d810a5",
   "metadata": {},
   "outputs": [],
   "source": [
    "done_curv = os.listdir('/scratch/groups/jyeatman/samjohns-projects/data/parc-images-jitter-processed/curv-trans')"
   ]
  },
  {
   "cell_type": "code",
   "execution_count": 36,
   "id": "e570f84b",
   "metadata": {},
   "outputs": [],
   "source": [
    "dc0 = done_curv[0]"
   ]
  },
  {
   "cell_type": "code",
   "execution_count": 37,
   "id": "a85d079b",
   "metadata": {},
   "outputs": [],
   "source": [
    "def parse(st, j):\n",
    "    dcs = st[:-4].split('-')\n",
    "    for i in range(len(dcs)):\n",
    "        if dcs[i] == '':\n",
    "            dcs[i+1] = '-' + dcs[i+1]\n",
    "    dcs = [d for d in dcs if d != '']\n",
    "    return dcs[j]\n",
    "\n",
    "def parse_name(st):\n",
    "    return 'sub-' + parse(st, 1)\n",
    "\n",
    "def parse_angle1(st):\n",
    "    return float(parse(st, 2))\n",
    "\n",
    "def parse_angle2(st):\n",
    "    return float(parse(st, 3))\n",
    "\n",
    "def parse_trans1(st):\n",
    "    return int(parse(st, 6))\n",
    "\n",
    "def parse_trans2(st):\n",
    "    return int(parse(st, 7))"
   ]
  },
  {
   "cell_type": "code",
   "execution_count": 38,
   "id": "bb244eb3",
   "metadata": {},
   "outputs": [],
   "source": [
    "df_dc = pd.DataFrame({'Filename': done_curv})"
   ]
  },
  {
   "cell_type": "code",
   "execution_count": 39,
   "id": "f30fc39f",
   "metadata": {},
   "outputs": [],
   "source": [
    "df_dc['Subject'] = df_dc['Filename'].apply(parse_name)\n",
    "df_dc['Angle1'] = df_dc['Filename'].apply(parse_angle1)\n",
    "df_dc['Angle2'] = df_dc['Filename'].apply(parse_angle2)\n",
    "df_dc['Shift1'] = df_dc['Filename'].apply(parse_trans1)\n",
    "df_dc['Shift2'] = df_dc['Filename'].apply(parse_trans2)"
   ]
  },
  {
   "cell_type": "code",
   "execution_count": 40,
   "id": "7a84fba4",
   "metadata": {
    "scrolled": true
   },
   "outputs": [
    {
     "data": {
      "text/html": [
       "<div>\n",
       "<style scoped>\n",
       "    .dataframe tbody tr th:only-of-type {\n",
       "        vertical-align: middle;\n",
       "    }\n",
       "\n",
       "    .dataframe tbody tr th {\n",
       "        vertical-align: top;\n",
       "    }\n",
       "\n",
       "    .dataframe thead th {\n",
       "        text-align: right;\n",
       "    }\n",
       "</style>\n",
       "<table border=\"1\" class=\"dataframe\">\n",
       "  <thead>\n",
       "    <tr style=\"text-align: right;\">\n",
       "      <th></th>\n",
       "      <th>Filename</th>\n",
       "      <th>Subject</th>\n",
       "      <th>Angle1</th>\n",
       "      <th>Angle2</th>\n",
       "      <th>Shift1</th>\n",
       "      <th>Shift2</th>\n",
       "    </tr>\n",
       "  </thead>\n",
       "  <tbody>\n",
       "    <tr>\n",
       "      <th>0</th>\n",
       "      <td>sub-NDARFN790WHU-210.62-81.89-curv-trans--12--...</td>\n",
       "      <td>sub-NDARFN790WHU</td>\n",
       "      <td>210.62</td>\n",
       "      <td>81.89</td>\n",
       "      <td>-12</td>\n",
       "      <td>-20</td>\n",
       "    </tr>\n",
       "    <tr>\n",
       "      <th>1</th>\n",
       "      <td>sub-NDARDU602LPX-206.64-85.88-curv-trans--2--1...</td>\n",
       "      <td>sub-NDARDU602LPX</td>\n",
       "      <td>206.64</td>\n",
       "      <td>85.88</td>\n",
       "      <td>-2</td>\n",
       "      <td>-19</td>\n",
       "    </tr>\n",
       "    <tr>\n",
       "      <th>2</th>\n",
       "      <td>sub-NDARGB015CT3-208.56-82.77-curv-trans--22-1...</td>\n",
       "      <td>sub-NDARGB015CT3</td>\n",
       "      <td>208.56</td>\n",
       "      <td>82.77</td>\n",
       "      <td>-22</td>\n",
       "      <td>12</td>\n",
       "    </tr>\n",
       "    <tr>\n",
       "      <th>3</th>\n",
       "      <td>sub-NDARKM718VKX-201.47-92.39-curv-trans-0-0.npy</td>\n",
       "      <td>sub-NDARKM718VKX</td>\n",
       "      <td>201.47</td>\n",
       "      <td>92.39</td>\n",
       "      <td>0</td>\n",
       "      <td>0</td>\n",
       "    </tr>\n",
       "    <tr>\n",
       "      <th>4</th>\n",
       "      <td>sub-NDARWE818UA6-219.09-76.41-curv-trans--16-8...</td>\n",
       "      <td>sub-NDARWE818UA6</td>\n",
       "      <td>219.09</td>\n",
       "      <td>76.41</td>\n",
       "      <td>-16</td>\n",
       "      <td>8</td>\n",
       "    </tr>\n",
       "    <tr>\n",
       "      <th>...</th>\n",
       "      <td>...</td>\n",
       "      <td>...</td>\n",
       "      <td>...</td>\n",
       "      <td>...</td>\n",
       "      <td>...</td>\n",
       "      <td>...</td>\n",
       "    </tr>\n",
       "    <tr>\n",
       "      <th>439921</th>\n",
       "      <td>sub-NDARNJ687DMC-218.80-83.07-curv-trans-10-2.npy</td>\n",
       "      <td>sub-NDARNJ687DMC</td>\n",
       "      <td>218.80</td>\n",
       "      <td>83.07</td>\n",
       "      <td>10</td>\n",
       "      <td>2</td>\n",
       "    </tr>\n",
       "    <tr>\n",
       "      <th>439922</th>\n",
       "      <td>sub-NDARYH480GTD-215.23-76.91-curv-trans--17-2...</td>\n",
       "      <td>sub-NDARYH480GTD</td>\n",
       "      <td>215.23</td>\n",
       "      <td>76.91</td>\n",
       "      <td>-17</td>\n",
       "      <td>20</td>\n",
       "    </tr>\n",
       "    <tr>\n",
       "      <th>439923</th>\n",
       "      <td>sub-NDARXR566CDR-197.48-83.31-curv-trans--20-1...</td>\n",
       "      <td>sub-NDARXR566CDR</td>\n",
       "      <td>197.48</td>\n",
       "      <td>83.31</td>\n",
       "      <td>-20</td>\n",
       "      <td>19</td>\n",
       "    </tr>\n",
       "    <tr>\n",
       "      <th>439924</th>\n",
       "      <td>sub-NDARJA356XHT-216.09-85.63-curv-trans-8--20...</td>\n",
       "      <td>sub-NDARJA356XHT</td>\n",
       "      <td>216.09</td>\n",
       "      <td>85.63</td>\n",
       "      <td>8</td>\n",
       "      <td>-20</td>\n",
       "    </tr>\n",
       "    <tr>\n",
       "      <th>439925</th>\n",
       "      <td>sub-NDARYE017HZA-204.26-90.03-curv-trans-8-5.npy</td>\n",
       "      <td>sub-NDARYE017HZA</td>\n",
       "      <td>204.26</td>\n",
       "      <td>90.03</td>\n",
       "      <td>8</td>\n",
       "      <td>5</td>\n",
       "    </tr>\n",
       "  </tbody>\n",
       "</table>\n",
       "<p>439926 rows × 6 columns</p>\n",
       "</div>"
      ],
      "text/plain": [
       "                                                 Filename           Subject  \\\n",
       "0       sub-NDARFN790WHU-210.62-81.89-curv-trans--12--...  sub-NDARFN790WHU   \n",
       "1       sub-NDARDU602LPX-206.64-85.88-curv-trans--2--1...  sub-NDARDU602LPX   \n",
       "2       sub-NDARGB015CT3-208.56-82.77-curv-trans--22-1...  sub-NDARGB015CT3   \n",
       "3        sub-NDARKM718VKX-201.47-92.39-curv-trans-0-0.npy  sub-NDARKM718VKX   \n",
       "4       sub-NDARWE818UA6-219.09-76.41-curv-trans--16-8...  sub-NDARWE818UA6   \n",
       "...                                                   ...               ...   \n",
       "439921  sub-NDARNJ687DMC-218.80-83.07-curv-trans-10-2.npy  sub-NDARNJ687DMC   \n",
       "439922  sub-NDARYH480GTD-215.23-76.91-curv-trans--17-2...  sub-NDARYH480GTD   \n",
       "439923  sub-NDARXR566CDR-197.48-83.31-curv-trans--20-1...  sub-NDARXR566CDR   \n",
       "439924  sub-NDARJA356XHT-216.09-85.63-curv-trans-8--20...  sub-NDARJA356XHT   \n",
       "439925   sub-NDARYE017HZA-204.26-90.03-curv-trans-8-5.npy  sub-NDARYE017HZA   \n",
       "\n",
       "        Angle1  Angle2  Shift1  Shift2  \n",
       "0       210.62   81.89     -12     -20  \n",
       "1       206.64   85.88      -2     -19  \n",
       "2       208.56   82.77     -22      12  \n",
       "3       201.47   92.39       0       0  \n",
       "4       219.09   76.41     -16       8  \n",
       "...        ...     ...     ...     ...  \n",
       "439921  218.80   83.07      10       2  \n",
       "439922  215.23   76.91     -17      20  \n",
       "439923  197.48   83.31     -20      19  \n",
       "439924  216.09   85.63       8     -20  \n",
       "439925  204.26   90.03       8       5  \n",
       "\n",
       "[439926 rows x 6 columns]"
      ]
     },
     "execution_count": 40,
     "metadata": {},
     "output_type": "execute_result"
    }
   ],
   "source": [
    "df_dc"
   ]
  },
  {
   "cell_type": "code",
   "execution_count": 41,
   "id": "5d9ca59c",
   "metadata": {},
   "outputs": [],
   "source": [
    "out_dir = '/scratch/groups/jyeatman/samjohns-projects/data/curv-mask-jitter'\n",
    "os.makedirs(out_dir, exist_ok=True)"
   ]
  },
  {
   "cell_type": "code",
   "execution_count": 42,
   "id": "d7a46cac",
   "metadata": {},
   "outputs": [],
   "source": [
    "da = df_dc[['Subject', 'Angle1', 'Angle2']].drop_duplicates()\n",
    "hbn_subs = list(da['Subject'].unique())"
   ]
  },
  {
   "cell_type": "code",
   "execution_count": 135,
   "id": "40c34dfd",
   "metadata": {},
   "outputs": [
    {
     "ename": "SyntaxError",
     "evalue": "f-string: empty expression not allowed (1514964100.py, line 27)",
     "output_type": "error",
     "traceback": [
      "\u001b[0;36m  File \u001b[0;32m\"/tmp/ipykernel_12274/1514964100.py\"\u001b[0;36m, line \u001b[0;32m27\u001b[0m\n\u001b[0;31m    )\u001b[0m\n\u001b[0m    ^\u001b[0m\n\u001b[0;31mSyntaxError\u001b[0m\u001b[0;31m:\u001b[0m f-string: empty expression not allowed\n"
     ]
    }
   ],
   "source": [
    "for sub in hbn_val_subjects[:5]:\n",
    "    \n",
    "    # get subject data\n",
    "    infl = surface.load_surf_mesh(f'{hbn_dir}/{hbn_val_subjects[0]}/surf/{inf}')\n",
    "    curv = surface.load_surf_data(f'{hbn_dir}/{hbn_val_subjects[0]}/surf/{cv}')\n",
    "    \n",
    "    # make curvature mask\n",
    "    curv_mask = np.zeros_like(curv)\n",
    "    curv_mask[curv > 0] = 1.0\n",
    "        \n",
    "    # make images\n",
    "    fig, ax = plt.subplots(figsize=(8, 8))\n",
    "    for statmap, mesh in [(curv, smwm), (curv_mask, infl)]:\n",
    "        if mesh is smwm:\n",
    "            name = 'white'\n",
    "        else:\n",
    "            name = 'inflated'\n",
    "        plotting.plot_surf_roi(mesh, statmap\n",
    "            ,view=[270., 90.]\n",
    "            # ,bg_on_data=True \n",
    "            ,figure=fig\n",
    "            ,cmap='gray'\n",
    "            ,threshold=0.0\n",
    "            ,output_file=f'{tutorial_dir}/{sub}-{}.png'\n",
    "            # ,colorbar=True\n",
    "            )"
   ]
  },
  {
   "cell_type": "code",
   "execution_count": 44,
   "id": "b948c788",
   "metadata": {
    "scrolled": true
   },
   "outputs": [
    {
     "data": {
      "text/plain": [
       "2361"
      ]
     },
     "execution_count": 44,
     "metadata": {},
     "output_type": "execute_result"
    }
   ],
   "source": [
    "len(hbn_subs)"
   ]
  },
  {
   "cell_type": "code",
   "execution_count": 45,
   "id": "833f5ef7",
   "metadata": {},
   "outputs": [
    {
     "ename": "NameError",
     "evalue": "name 'subj_angles' is not defined",
     "output_type": "error",
     "traceback": [
      "\u001b[0;31m---------------------------------------------------------------------------\u001b[0m",
      "\u001b[0;31mNameError\u001b[0m                                 Traceback (most recent call last)",
      "\u001b[0;32m/tmp/ipykernel_8989/3700993320.py\u001b[0m in \u001b[0;36m<module>\u001b[0;34m\u001b[0m\n\u001b[1;32m     14\u001b[0m \u001b[0;34m\u001b[0m\u001b[0m\n\u001b[1;32m     15\u001b[0m     \u001b[0;31m# make images, one per view\u001b[0m\u001b[0;34m\u001b[0m\u001b[0;34m\u001b[0m\u001b[0m\n\u001b[0;32m---> 16\u001b[0;31m     \u001b[0;32mfor\u001b[0m \u001b[0ma\u001b[0m \u001b[0;32min\u001b[0m \u001b[0msubj_angles\u001b[0m\u001b[0;34m:\u001b[0m\u001b[0;34m\u001b[0m\u001b[0;34m\u001b[0m\u001b[0m\n\u001b[0m\u001b[1;32m     17\u001b[0m         \u001b[0mfig\u001b[0m\u001b[0;34m,\u001b[0m \u001b[0max\u001b[0m \u001b[0;34m=\u001b[0m \u001b[0mplt\u001b[0m\u001b[0;34m.\u001b[0m\u001b[0msubplots\u001b[0m\u001b[0;34m(\u001b[0m\u001b[0mfigsize\u001b[0m\u001b[0;34m=\u001b[0m\u001b[0;34m(\u001b[0m\u001b[0;36m8\u001b[0m\u001b[0;34m,\u001b[0m \u001b[0;36m8\u001b[0m\u001b[0;34m)\u001b[0m\u001b[0;34m)\u001b[0m\u001b[0;34m\u001b[0m\u001b[0;34m\u001b[0m\u001b[0m\n\u001b[1;32m     18\u001b[0m         plotting.plot_surf_roi(infl, curv_mask\n",
      "\u001b[0;31mNameError\u001b[0m: name 'subj_angles' is not defined"
     ]
    }
   ],
   "source": [
    "for sub in hbn_subs:\n",
    "    # get subject data\n",
    "    # get subject data\n",
    "    infl = surface.load_surf_mesh(f'{hbn_dir}/{sub}/surf/lh.inflated')\n",
    "    curv = surface.load_surf_data(f'{hbn_dir}/{sub}/surf/lh.curv')\n",
    "    \n",
    "    # make curvature mask\n",
    "    curv_mask = np.zeros_like(curv)\n",
    "    curv_mask[curv > 0] = 1.0\n",
    "    \n",
    "    # get subject angles\n",
    "    ds = da[da.Subject == sub]\n",
    "    angles = [[a1, a2] for a1, a2 in zip(ds['Angle1'], ds['Angle2'])]\n",
    "    \n",
    "    # make images, one per view\n",
    "    for a in subj_angles:\n",
    "        fig, ax = plt.subplots(figsize=(8, 8))\n",
    "        plotting.plot_surf_roi(infl, curv_mask\n",
    "            ,view=a\n",
    "            # ,bg_on_data=True \n",
    "            ,figure=fig\n",
    "            ,cmap='gray'\n",
    "            ,threshold=0.0\n",
    "            ,output_file=f'{out_dir}/{sub}-{a[0]:.2f}-{a[1]:.2f}-curv-mask.png'\n",
    "            # ,colorbar=True\n",
    "            )"
   ]
  },
  {
   "cell_type": "code",
   "execution_count": 130,
   "id": "8a9c6548",
   "metadata": {},
   "outputs": [
    {
     "data": {
      "text/plain": [
       "'/scratch/groups/jyeatman/samjohns-projects/data/curv-mask-jitter'"
      ]
     },
     "execution_count": 130,
     "metadata": {},
     "output_type": "execute_result"
    }
   ],
   "source": [
    "out_dir"
   ]
  },
  {
   "cell_type": "markdown",
   "id": "44d743e1",
   "metadata": {},
   "source": [
    "## 1.(-1) Make Tutorial Images\n",
    "- Binary curvature mask\n",
    "- White and Inflated"
   ]
  },
  {
   "cell_type": "code",
   "execution_count": 115,
   "id": "1b7c6acf",
   "metadata": {},
   "outputs": [],
   "source": [
    "data_dir = '/scratch/groups/jyeatman/samjohns-projects/data/'\n",
    "tutorial_dir = os.path.join(data_dir, 'ots-tutorial')\n",
    "os.makedirs(tutorial_dir, exist_ok=True)"
   ]
  },
  {
   "cell_type": "code",
   "execution_count": 116,
   "id": "32335613",
   "metadata": {},
   "outputs": [],
   "source": [
    "jamie_dir = '/oak/stanford/groups/jyeatman/yarbus/AlexsProjects/WordsFieldOfView/WordsFOV_MRI_Derivatives/sub-585/anat'\n",
    "jamie_surf_dir = '/oak/stanford/groups/jyeatman/yarbus/AlexsProjects/WordsFieldOfView/WordsFOV_MRI_Derivatives/sourcedata/freesurfer/sub-585/surf/'"
   ]
  },
  {
   "cell_type": "code",
   "execution_count": 117,
   "id": "88eb6a44",
   "metadata": {},
   "outputs": [],
   "source": [
    "# get validation subject EIDS\n",
    "hbn_val_dir = os.listdir(data_dir + '/parc-images-jitter-processed/curv-trans-val')"
   ]
  },
  {
   "cell_type": "code",
   "execution_count": 118,
   "id": "db25934d",
   "metadata": {},
   "outputs": [],
   "source": [
    "hbn_val_subjects = []\n",
    "hbn_val_angles = []\n",
    "\n",
    "for m in hbn_val_dir:\n",
    "    \n",
    "    msplit = m.split('-')\n",
    "    angles = [float(a) for a in msplit[2:4]]\n",
    "    subject = msplit[1]\n",
    "    \n",
    "    hbn_val_subjects.append('sub-' + subject)\n",
    "    hbn_val_angles.append(angles)"
   ]
  },
  {
   "cell_type": "code",
   "execution_count": 119,
   "id": "fd142ac8",
   "metadata": {},
   "outputs": [],
   "source": [
    "hbn_val_df = pd.DataFrame({'Subject': hbn_val_subjects, 'Angles': hbn_val_angles})"
   ]
  },
  {
   "cell_type": "code",
   "execution_count": 120,
   "id": "72d48c4a",
   "metadata": {},
   "outputs": [],
   "source": [
    "wm = 'lh.white'\n",
    "inf = 'lh.inflated'\n",
    "cv = 'lh.curv'"
   ]
  },
  {
   "cell_type": "code",
   "execution_count": 121,
   "id": "2cac7b1f",
   "metadata": {},
   "outputs": [
    {
     "data": {
      "text/plain": [
       "True"
      ]
     },
     "execution_count": 121,
     "metadata": {},
     "output_type": "execute_result"
    }
   ],
   "source": [
    "os.path.exists(f'{hbn_dir}/{hbn_val_subjects[0]}/surf/{wm}') and \\\n",
    "os.path.exists(f'{hbn_dir}/{hbn_val_subjects[0]}/surf/{inf}') and \\\n",
    "os.path.exists(f'{hbn_dir}/{hbn_val_subjects[0]}/surf/{cv}')"
   ]
  },
  {
   "cell_type": "code",
   "execution_count": 126,
   "id": "5ec5977a",
   "metadata": {},
   "outputs": [
    {
     "ename": "ValueError",
     "evalue": "The input type is not recognized. '/oak/stanford/groups/jyeatman/HBN/BIDS_curated/derivatives/freesurfer/sub-NDARDU602LPX/surf/lh.smoothwm' was given while valid inputs are one of the following file formats: .gii, .gii.gz, Freesurfer specific files such as .orig, .pial, .sphere, .white, .inflated or two Numpy arrays organized in a list, tuple or a namedtuple with the fields \"coordinates\" and \"faces\"",
     "output_type": "error",
     "traceback": [
      "\u001b[0;31m---------------------------------------------------------------------------\u001b[0m",
      "\u001b[0;31mValueError\u001b[0m                                Traceback (most recent call last)",
      "\u001b[0;32m/tmp/ipykernel_30104/1085699634.py\u001b[0m in \u001b[0;36m<module>\u001b[0;34m\u001b[0m\n\u001b[1;32m      3\u001b[0m     \u001b[0;31m# get subject data\u001b[0m\u001b[0;34m\u001b[0m\u001b[0;34m\u001b[0m\u001b[0m\n\u001b[1;32m      4\u001b[0m     \u001b[0minfl\u001b[0m \u001b[0;34m=\u001b[0m \u001b[0msurface\u001b[0m\u001b[0;34m.\u001b[0m\u001b[0mload_surf_mesh\u001b[0m\u001b[0;34m(\u001b[0m\u001b[0;34mf'{hbn_dir}/{hbn_val_subjects[0]}/surf/{inf}'\u001b[0m\u001b[0;34m)\u001b[0m\u001b[0;34m\u001b[0m\u001b[0;34m\u001b[0m\u001b[0m\n\u001b[0;32m----> 5\u001b[0;31m     \u001b[0msmwm\u001b[0m \u001b[0;34m=\u001b[0m \u001b[0msurface\u001b[0m\u001b[0;34m.\u001b[0m\u001b[0mload_surf_mesh\u001b[0m\u001b[0;34m(\u001b[0m\u001b[0;34mf'{hbn_dir}/{hbn_val_subjects[0]}/surf/lh.smoothwm'\u001b[0m\u001b[0;34m)\u001b[0m\u001b[0;34m\u001b[0m\u001b[0;34m\u001b[0m\u001b[0m\n\u001b[0m\u001b[1;32m      6\u001b[0m     \u001b[0mcurv\u001b[0m \u001b[0;34m=\u001b[0m \u001b[0msurface\u001b[0m\u001b[0;34m.\u001b[0m\u001b[0mload_surf_data\u001b[0m\u001b[0;34m(\u001b[0m\u001b[0;34mf'{hbn_dir}/{hbn_val_subjects[0]}/surf/{cv}'\u001b[0m\u001b[0;34m)\u001b[0m\u001b[0;34m\u001b[0m\u001b[0;34m\u001b[0m\u001b[0m\n\u001b[1;32m      7\u001b[0m \u001b[0;34m\u001b[0m\u001b[0m\n",
      "\u001b[0;32m/home/groups/jyeatman/software/anaconda3/envs/torch-ni-ny/lib/python3.9/site-packages/nilearn/surface/surface.py\u001b[0m in \u001b[0;36mload_surf_mesh\u001b[0;34m(surf_mesh)\u001b[0m\n\u001b[1;32m    866\u001b[0m             \u001b[0mmesh\u001b[0m \u001b[0;34m=\u001b[0m \u001b[0mMesh\u001b[0m\u001b[0;34m(\u001b[0m\u001b[0mcoordinates\u001b[0m\u001b[0;34m=\u001b[0m\u001b[0mcoords\u001b[0m\u001b[0;34m,\u001b[0m \u001b[0mfaces\u001b[0m\u001b[0;34m=\u001b[0m\u001b[0mfaces\u001b[0m\u001b[0;34m)\u001b[0m\u001b[0;34m\u001b[0m\u001b[0;34m\u001b[0m\u001b[0m\n\u001b[1;32m    867\u001b[0m         \u001b[0;32melse\u001b[0m\u001b[0;34m:\u001b[0m\u001b[0;34m\u001b[0m\u001b[0;34m\u001b[0m\u001b[0m\n\u001b[0;32m--> 868\u001b[0;31m             raise ValueError(('The input type is not recognized. %r was given '\n\u001b[0m\u001b[1;32m    869\u001b[0m                               \u001b[0;34m'while valid inputs are one of the following '\u001b[0m\u001b[0;34m\u001b[0m\u001b[0;34m\u001b[0m\u001b[0m\n\u001b[1;32m    870\u001b[0m                               \u001b[0;34m'file formats: .gii, .gii.gz, Freesurfer '\u001b[0m\u001b[0;34m\u001b[0m\u001b[0;34m\u001b[0m\u001b[0m\n",
      "\u001b[0;31mValueError\u001b[0m: The input type is not recognized. '/oak/stanford/groups/jyeatman/HBN/BIDS_curated/derivatives/freesurfer/sub-NDARDU602LPX/surf/lh.smoothwm' was given while valid inputs are one of the following file formats: .gii, .gii.gz, Freesurfer specific files such as .orig, .pial, .sphere, .white, .inflated or two Numpy arrays organized in a list, tuple or a namedtuple with the fields \"coordinates\" and \"faces\""
     ]
    }
   ],
   "source": [
    "for sub in hbn_val_subjects[:5]:\n",
    "    \n",
    "    # get subject data\n",
    "    infl = surface.load_surf_mesh(f'{hbn_dir}/{hbn_val_subjects[0]}/surf/{inf}')\n",
    "    smwm = surface.load_surf_mesh(f'{hbn_dir}/{hbn_val_subjects[0]}/surf/{wm}')\n",
    "    curv = surface.load_surf_data(f'{hbn_dir}/{hbn_val_subjects[0]}/surf/{cv}')\n",
    "    \n",
    "    # make curvature mask\n",
    "    curv_mask = np.zeros_like(curv)\n",
    "    curv_mask[curv > 0] = 1.0\n",
    "        \n",
    "    # make images\n",
    "    fig, ax = plt.subplots(figsize=(8, 8))\n",
    "    for statmap, mesh in [(curv, smwm), (curv_mask, infl)]:\n",
    "        if mesh is smwm:\n",
    "            name = 'white'\n",
    "        else:\n",
    "            name = 'inflated'\n",
    "        plotting.plot_surf_roi(mesh, statmap\n",
    "            ,view=[270., 90.]\n",
    "            # ,bg_on_data=True \n",
    "            ,figure=fig\n",
    "            ,cmap='gray'\n",
    "            ,threshold=0.0\n",
    "            ,output_file=f'{tutorial_dir}/{sub}-{}.png'\n",
    "            # ,colorbar=True\n",
    "            )"
   ]
  },
  {
   "cell_type": "code",
   "execution_count": 131,
   "id": "3f4f6bec",
   "metadata": {},
   "outputs": [],
   "source": [
    "# get subject data\n",
    "infl = surface.load_surf_mesh(f'{jamie_surf_dir}{inf}')\n",
    "smwm = surface.load_surf_mesh(f'{jamie_surf_dir}{wm}')\n",
    "curv = surface.load_surf_data(f'{jamie_surf_dir}{cv}')\n",
    "\n",
    "# make curvature mask\n",
    "curv_mask = np.zeros_like(curv)\n",
    "curv_mask[curv > 0] = 1.0\n",
    "\n",
    "# make images\n",
    "fig, ax = plt.subplots(figsize=(8, 8))\n",
    "for statmap, mesh in [(curv, smwm), (curv_mask, infl)]:\n",
    "    if mesh is smwm:\n",
    "        name = 'white'\n",
    "    else:\n",
    "        name = 'inflated'\n",
    "    plotting.plot_surf_roi(mesh, statmap\n",
    "        ,view=[270., 90.]\n",
    "        # ,bg_on_data=True \n",
    "        ,figure=fig\n",
    "        ,cmap='gray'\n",
    "        ,threshold=0.0\n",
    "        ,output_file=f'{tutorial_dir}/JME-{name}.png'\n",
    "        # ,colorbar=True\n",
    "        )"
   ]
  },
  {
   "cell_type": "markdown",
   "id": "5a2b8616",
   "metadata": {},
   "source": [
    "## 2. Create pixel2vertex maps"
   ]
  },
  {
   "cell_type": "code",
   "execution_count": 35,
   "id": "b3a4b507",
   "metadata": {},
   "outputs": [],
   "source": [
    "sub = subjects[0]\n",
    "curv_path = f'{hbn_dir}/{sub}{surf_subdir}/{curv_filename}'\n",
    "infl_path = f'{hbn_dir}/{sub}{surf_subdir}/{infl_filename}'"
   ]
  },
  {
   "cell_type": "code",
   "execution_count": 36,
   "id": "0779765f",
   "metadata": {},
   "outputs": [
    {
     "ename": "ValueError",
     "evalue": "No files matching path: /scratch/users/samjohns/HBN/BIDS_curated/derivatives/freesurfer/5006_T1.long.5006surf/lh.curv",
     "output_type": "error",
     "traceback": [
      "\u001b[0;31m---------------------------------------------------------------------------\u001b[0m",
      "\u001b[0;31mValueError\u001b[0m                                Traceback (most recent call last)",
      "\u001b[0;32m/tmp/ipykernel_13286/1070626505.py\u001b[0m in \u001b[0;36m<module>\u001b[0;34m\u001b[0m\n\u001b[0;32m----> 1\u001b[0;31m \u001b[0mcurv\u001b[0m \u001b[0;34m=\u001b[0m \u001b[0msurface\u001b[0m\u001b[0;34m.\u001b[0m\u001b[0mload_surf_data\u001b[0m\u001b[0;34m(\u001b[0m\u001b[0mcurv_path\u001b[0m\u001b[0;34m)\u001b[0m\u001b[0;34m\u001b[0m\u001b[0;34m\u001b[0m\u001b[0m\n\u001b[0m\u001b[1;32m      2\u001b[0m \u001b[0minfl\u001b[0m \u001b[0;34m=\u001b[0m \u001b[0msurface\u001b[0m\u001b[0;34m.\u001b[0m\u001b[0mload_surf_mesh\u001b[0m\u001b[0;34m(\u001b[0m\u001b[0minfl_path\u001b[0m\u001b[0;34m)\u001b[0m\u001b[0;34m\u001b[0m\u001b[0;34m\u001b[0m\u001b[0m\n",
      "\u001b[0;32m/home/groups/jyeatman/software/anaconda3/envs/torch-ni-ny/lib/python3.9/site-packages/nilearn/surface/surface.py\u001b[0m in \u001b[0;36mload_surf_data\u001b[0;34m(surf_data)\u001b[0m\n\u001b[1;32m    711\u001b[0m \u001b[0;34m\u001b[0m\u001b[0m\n\u001b[1;32m    712\u001b[0m         \u001b[0;31m# resolve globbing\u001b[0m\u001b[0;34m\u001b[0m\u001b[0;34m\u001b[0m\u001b[0m\n\u001b[0;32m--> 713\u001b[0;31m         \u001b[0mfile_list\u001b[0m \u001b[0;34m=\u001b[0m \u001b[0m_resolve_globbing\u001b[0m\u001b[0;34m(\u001b[0m\u001b[0msurf_data\u001b[0m\u001b[0;34m)\u001b[0m\u001b[0;34m\u001b[0m\u001b[0;34m\u001b[0m\u001b[0m\n\u001b[0m\u001b[1;32m    714\u001b[0m         \u001b[0;31m# _resolve_globbing handles empty lists\u001b[0m\u001b[0;34m\u001b[0m\u001b[0;34m\u001b[0m\u001b[0m\n\u001b[1;32m    715\u001b[0m \u001b[0;34m\u001b[0m\u001b[0m\n",
      "\u001b[0;32m/home/groups/jyeatman/software/anaconda3/envs/torch-ni-ny/lib/python3.9/site-packages/nilearn/_utils/path_finding.py\u001b[0m in \u001b[0;36m_resolve_globbing\u001b[0;34m(path)\u001b[0m\n\u001b[1;32m     11\u001b[0m         \u001b[0;31m# Raise an error in case the list is empty.\u001b[0m\u001b[0;34m\u001b[0m\u001b[0;34m\u001b[0m\u001b[0m\n\u001b[1;32m     12\u001b[0m         \u001b[0;32mif\u001b[0m \u001b[0mlen\u001b[0m\u001b[0;34m(\u001b[0m\u001b[0mpath_list\u001b[0m\u001b[0;34m)\u001b[0m \u001b[0;34m==\u001b[0m \u001b[0;36m0\u001b[0m\u001b[0;34m:\u001b[0m\u001b[0;34m\u001b[0m\u001b[0;34m\u001b[0m\u001b[0m\n\u001b[0;32m---> 13\u001b[0;31m             \u001b[0;32mraise\u001b[0m \u001b[0mValueError\u001b[0m\u001b[0;34m(\u001b[0m\u001b[0;34m\"No files matching path: %s\"\u001b[0m \u001b[0;34m%\u001b[0m \u001b[0mpath\u001b[0m\u001b[0;34m)\u001b[0m\u001b[0;34m\u001b[0m\u001b[0;34m\u001b[0m\u001b[0m\n\u001b[0m\u001b[1;32m     14\u001b[0m         \u001b[0mpath\u001b[0m \u001b[0;34m=\u001b[0m \u001b[0mpath_list\u001b[0m\u001b[0;34m\u001b[0m\u001b[0;34m\u001b[0m\u001b[0m\n\u001b[1;32m     15\u001b[0m \u001b[0;34m\u001b[0m\u001b[0m\n",
      "\u001b[0;31mValueError\u001b[0m: No files matching path: /scratch/users/samjohns/HBN/BIDS_curated/derivatives/freesurfer/5006_T1.long.5006surf/lh.curv"
     ]
    }
   ],
   "source": [
    "curv = surface.load_surf_data(curv_path)\n",
    "infl = surface.load_surf_mesh(infl_path)"
   ]
  },
  {
   "cell_type": "code",
   "execution_count": null,
   "id": "78d2b5eb",
   "metadata": {},
   "outputs": [],
   "source": [
    "coords = infl.coordinates\n",
    "\n",
    "xs = coords[:, 0]\n",
    "ys = coords[:, 1]\n",
    "zs = coords[:, 2]"
   ]
  },
  {
   "cell_type": "code",
   "execution_count": 5,
   "id": "f93cbd78",
   "metadata": {},
   "outputs": [],
   "source": [
    "def make_subject_images(subdir, savedir, save_prefix, a=[210., 0.]):\n",
    "    \"\"\" Make subject image to record x, y, and z of vertices.\n",
    "        Saved as 3 grayscale images.\n",
    "    \"\"\"\n",
    "    xrange = 60.\n",
    "    yrange = 150.\n",
    "    zrange = 100.\n",
    "    ranges = [xrange, yrange, zrange]\n",
    "    \n",
    "    curv_path = f'{subdir}/surf/lh.curv'\n",
    "    infl_path = f'{subdir}/surf/lh.inflated'\n",
    "    curv = surface.load_surf_data(curv_path)\n",
    "    infl = surface.load_surf_mesh(infl_path)\n",
    "    \n",
    "    fig, ax = plt.subplots(figsize=(8, 8))\n",
    "    for i in range(3):\n",
    "        \n",
    "        plotting.plot_surf_roi(infl, infl.coordinates[:, i]\n",
    "                               ,view=(a[0], a[1])\n",
    "                               # ,bg_map=test_curv\n",
    "                               # ,bg_on_data=True \n",
    "                               ,figure=fig\n",
    "                               ,cmap='gray'\n",
    "                               ,output_file=f'{savedir}/{save_prefix}-{a[0]:.2f}-{a[1]:.2f}-coord-{i}.png'\n",
    "                               ,vmin=-ranges[i]\n",
    "                               ,vmax=ranges[i]\n",
    "                               # ,threshold=25.0\n",
    "                               # colorbar=True\n",
    "                              )"
   ]
  },
  {
   "cell_type": "code",
   "execution_count": 6,
   "id": "307177ee",
   "metadata": {},
   "outputs": [],
   "source": [
    "xrange = 60.\n",
    "yrange = 150.\n",
    "zrange = 100.\n",
    "ranges = [xrange, yrange, zrange]"
   ]
  },
  {
   "cell_type": "code",
   "execution_count": 12,
   "id": "5c4d52d4",
   "metadata": {},
   "outputs": [
    {
     "data": {
      "image/png": "[encoded data removed]",
      "text/plain": [
       "<Figure size 576x576 with 2 Axes>"
      ]
     },
     "execution_count": 12,
     "metadata": {},
     "output_type": "execute_result"
    },
    {
     "data": {
      "image/png": "[encoded data removed]",
      "text/plain": [
       "<Figure size 576x576 with 2 Axes>"
      ]
     },
     "metadata": {
      "needs_background": "light"
     },
     "output_type": "display_data"
    }
   ],
   "source": [
    "i = 2\n",
    "a = np.array([0., 0.])\n",
    "fig, ax = plt.subplots(figsize=(8, 8))\n",
    "\n",
    "plotting.plot_surf_roi(infl, coords[:, i]\n",
    "                       ,view=(210., 90.)\n",
    "                       # ,bg_map=test_curv\n",
    "                       # ,bg_on_data=True \n",
    "                       ,figure=fig\n",
    "                       ,cmap='gray'\n",
    "                       #,output_file=f'{out_path}/{sub}-{a[0]:.2f}-{a[1]:.2f}-coord-{i}.png'\n",
    "                       ,vmin=-ranges[i]\n",
    "                       ,vmax=ranges[i]\n",
    "                       # ,threshold=25.0\n",
    "                       # colorbar=True\n",
    "                      )"
   ]
  },
  {
   "cell_type": "code",
   "execution_count": 13,
   "id": "8649b455",
   "metadata": {},
   "outputs": [],
   "source": [
    "imgs = [f for f in os.listdir() if 'coord' in f]"
   ]
  },
  {
   "cell_type": "code",
   "execution_count": 14,
   "id": "8d98e512",
   "metadata": {},
   "outputs": [],
   "source": [
    "imgs.sort()"
   ]
  },
  {
   "cell_type": "code",
   "execution_count": 15,
   "id": "7ac69d46",
   "metadata": {},
   "outputs": [
    {
     "data": {
      "text/plain": [
       "['sub-NDARAA075AMK-0.00-0.00-coord-0.png',\n",
       " 'sub-NDARAA075AMK-0.00-0.00-coord-1.png',\n",
       " 'sub-NDARAA075AMK-0.00-0.00-coord-2.png']"
      ]
     },
     "execution_count": 15,
     "metadata": {},
     "output_type": "execute_result"
    }
   ],
   "source": [
    "imgs"
   ]
  },
  {
   "cell_type": "code",
   "execution_count": 15,
   "id": "83c8b15e",
   "metadata": {},
   "outputs": [],
   "source": [
    "img_x = Image.open(imgs[0])\n",
    "img_y = Image.open(imgs[1])\n",
    "img_z = Image.open(imgs[2])"
   ]
  },
  {
   "cell_type": "code",
   "execution_count": 16,
   "id": "38a9a746",
   "metadata": {},
   "outputs": [],
   "source": [
    "np_x = np.array(img_x)[:, :, 0]  # note: all three color channels are equal; alpha channel irrelevant\n",
    "np_y = np.array(img_y)[:, :, 0]\n",
    "np_z = np.array(img_z)[:, :, 0]"
   ]
  },
  {
   "cell_type": "code",
   "execution_count": 10,
   "id": "f956bba3",
   "metadata": {},
   "outputs": [],
   "source": [
    "def get_coords(arr, vrange, img_max=255.0):\n",
    "    \"\"\" Convert color value (default: 0 - 255) into coordinate value.\n",
    "    \"\"\"\n",
    "    img_max = float(img_max)  # in case img_max is supplied as int\n",
    "    arr = arr.astype(dtype=np.float32)\n",
    "    arr[arr==img_max] = np.nan  # set max (white background to nan)\n",
    "    arr *= (2 * vrange / img_max)\n",
    "    arr -= vrange\n",
    "    return arr\n",
    "\n",
    "def get_pixel_coords(np_x, np_y, np_z, xrange, yrange, zrange, img_max=255.0):\n",
    "    \"\"\" Convert color into coordinate, once for each coordinate (x, y, z)\n",
    "    \"\"\"\n",
    "    xc = get_coords(np_x, xrange)\n",
    "    yc = get_coords(np_y, yrange)\n",
    "    zc = get_coords(np_z, zrange)\n",
    "    return np.stack([xc, yc, zc], axis=2)\n",
    "\n",
    "def closest_coord(pixel_coords, vertex_coord, return_distance=False):\n",
    "    \"\"\" Find the pixel whose (x, y, z) location is closest to that of a given vertex.\n",
    "    \"\"\"\n",
    "    diffs = np.square(pixel_coords - vertex_coord)\n",
    "    diffs = diffs.sum(axis=2)\n",
    "    am = np.nanargmin(diffs)  # find the index `am` of minimum distance pixel\n",
    "    dy = diffs.shape[1]\n",
    "    indx = am // dy\n",
    "    indy = am % dy\n",
    "    if return_distance:\n",
    "        return indx, indy, np.sqrt(diffs[indx, indy])  # convert `am` into 2D pixel location\n",
    "    else:\n",
    "        return indx, indy\n",
    "\n",
    "def coords_to_vertices(pixel_coords, vertex_coords, return_distances=False):\n",
    "    \"\"\" Loops over all vertices to match them to their closest pixels.\n",
    "    \"\"\"\n",
    "    shape = pixel_coords.shape[:2]\n",
    "    vertex_dir = {}\n",
    "    distance_dir = {}\n",
    "    for i in range(shape[0]):\n",
    "        for j in range(shape[1]):\n",
    "            vertex_dir[(i, j)] = []\n",
    "    \n",
    "    for v, vc in enumerate(vertex_coords):\n",
    "        if return_distances:\n",
    "            xi, yi, d = closest_coord(pixel_coords, vc, return_distance=True)\n",
    "        else:\n",
    "            xi, yi = closest_coord(pixel_coords, vc, return_distance=False)\n",
    "        append_val = v\n",
    "        if return_distances:\n",
    "            append_val = [v, d]\n",
    "        vertex_dir[(xi, yi)].append(append_val)\n",
    "        if v % 1000 == 0:\n",
    "            print(f'Assigned {v} vertices...')\n",
    "    \n",
    "    return vertex_dir\n",
    "\n",
    "def px_2_coord(vcoords, pcoords, px_vertex_dict, distance_dict=False):\n",
    "    coords_vert_recon = np.zeros_like(vcoords)\n",
    "    for k, v in px_vertex_dict.items():\n",
    "        i, j = k  # unpack k\n",
    "        coord = pcoords[i, j, :]\n",
    "        for vertex in v:\n",
    "            if distance_dict:\n",
    "                vertex = vertex[0]\n",
    "            coords_vert_recon[vertex] = coord\n",
    "    return coords_vert_recon"
   ]
  },
  {
   "cell_type": "code",
   "execution_count": 18,
   "id": "7bba9643",
   "metadata": {},
   "outputs": [],
   "source": [
    "pcs = get_pixel_coords(np_x, np_y, np_z, xrange, yrange, zrange)"
   ]
  },
  {
   "cell_type": "code",
   "execution_count": 22,
   "id": "99771de2",
   "metadata": {},
   "outputs": [
    {
     "data": {
      "text/plain": [
       "((576, 576, 3), (131784, 3))"
      ]
     },
     "execution_count": 22,
     "metadata": {},
     "output_type": "execute_result"
    }
   ],
   "source": [
    "pcs.shape, coords.shape"
   ]
  },
  {
   "cell_type": "code",
   "execution_count": 23,
   "id": "3ed8732b",
   "metadata": {
    "collapsed": true
   },
   "outputs": [
    {
     "name": "stdout",
     "output_type": "stream",
     "text": [
      "Assigned 0 vertices...\n",
      "Assigned 1000 vertices...\n",
      "Assigned 2000 vertices...\n",
      "Assigned 3000 vertices...\n",
      "Assigned 4000 vertices...\n",
      "Assigned 5000 vertices...\n",
      "Assigned 6000 vertices...\n",
      "Assigned 7000 vertices...\n",
      "Assigned 8000 vertices...\n",
      "Assigned 9000 vertices...\n",
      "Assigned 10000 vertices...\n",
      "Assigned 11000 vertices...\n",
      "Assigned 12000 vertices...\n",
      "Assigned 13000 vertices...\n",
      "Assigned 14000 vertices...\n",
      "Assigned 15000 vertices...\n",
      "Assigned 16000 vertices...\n",
      "Assigned 17000 vertices...\n",
      "Assigned 18000 vertices...\n",
      "Assigned 19000 vertices...\n",
      "Assigned 20000 vertices...\n",
      "Assigned 21000 vertices...\n",
      "Assigned 22000 vertices...\n",
      "Assigned 23000 vertices...\n",
      "Assigned 24000 vertices...\n",
      "Assigned 25000 vertices...\n",
      "Assigned 26000 vertices...\n",
      "Assigned 27000 vertices...\n",
      "Assigned 28000 vertices...\n",
      "Assigned 29000 vertices...\n",
      "Assigned 30000 vertices...\n",
      "Assigned 31000 vertices...\n",
      "Assigned 32000 vertices...\n",
      "Assigned 33000 vertices...\n",
      "Assigned 34000 vertices...\n",
      "Assigned 35000 vertices...\n",
      "Assigned 36000 vertices...\n",
      "Assigned 37000 vertices...\n",
      "Assigned 38000 vertices...\n",
      "Assigned 39000 vertices...\n",
      "Assigned 40000 vertices...\n",
      "Assigned 41000 vertices...\n",
      "Assigned 42000 vertices...\n",
      "Assigned 43000 vertices...\n",
      "Assigned 44000 vertices...\n",
      "Assigned 45000 vertices...\n",
      "Assigned 46000 vertices...\n",
      "Assigned 47000 vertices...\n",
      "Assigned 48000 vertices...\n",
      "Assigned 49000 vertices...\n",
      "Assigned 50000 vertices...\n",
      "Assigned 51000 vertices...\n",
      "Assigned 52000 vertices...\n",
      "Assigned 53000 vertices...\n",
      "Assigned 54000 vertices...\n",
      "Assigned 55000 vertices...\n",
      "Assigned 56000 vertices...\n",
      "Assigned 57000 vertices...\n",
      "Assigned 58000 vertices...\n",
      "Assigned 59000 vertices...\n",
      "Assigned 60000 vertices...\n",
      "Assigned 61000 vertices...\n",
      "Assigned 62000 vertices...\n",
      "Assigned 63000 vertices...\n",
      "Assigned 64000 vertices...\n",
      "Assigned 65000 vertices...\n",
      "Assigned 66000 vertices...\n",
      "Assigned 67000 vertices...\n",
      "Assigned 68000 vertices...\n",
      "Assigned 69000 vertices...\n",
      "Assigned 70000 vertices...\n",
      "Assigned 71000 vertices...\n",
      "Assigned 72000 vertices...\n",
      "Assigned 73000 vertices...\n",
      "Assigned 74000 vertices...\n",
      "Assigned 75000 vertices...\n",
      "Assigned 76000 vertices...\n",
      "Assigned 77000 vertices...\n",
      "Assigned 78000 vertices...\n",
      "Assigned 79000 vertices...\n",
      "Assigned 80000 vertices...\n",
      "Assigned 81000 vertices...\n",
      "Assigned 82000 vertices...\n",
      "Assigned 83000 vertices...\n",
      "Assigned 84000 vertices...\n",
      "Assigned 85000 vertices...\n",
      "Assigned 86000 vertices...\n",
      "Assigned 87000 vertices...\n",
      "Assigned 88000 vertices...\n",
      "Assigned 89000 vertices...\n",
      "Assigned 90000 vertices...\n",
      "Assigned 91000 vertices...\n",
      "Assigned 92000 vertices...\n",
      "Assigned 93000 vertices...\n",
      "Assigned 94000 vertices...\n",
      "Assigned 95000 vertices...\n",
      "Assigned 96000 vertices...\n",
      "Assigned 97000 vertices...\n",
      "Assigned 98000 vertices...\n",
      "Assigned 99000 vertices...\n",
      "Assigned 100000 vertices...\n",
      "Assigned 101000 vertices...\n",
      "Assigned 102000 vertices...\n",
      "Assigned 103000 vertices...\n",
      "Assigned 104000 vertices...\n",
      "Assigned 105000 vertices...\n",
      "Assigned 106000 vertices...\n",
      "Assigned 107000 vertices...\n",
      "Assigned 108000 vertices...\n",
      "Assigned 109000 vertices...\n",
      "Assigned 110000 vertices...\n",
      "Assigned 111000 vertices...\n",
      "Assigned 112000 vertices...\n",
      "Assigned 113000 vertices...\n",
      "Assigned 114000 vertices...\n",
      "Assigned 115000 vertices...\n",
      "Assigned 116000 vertices...\n",
      "Assigned 117000 vertices...\n",
      "Assigned 118000 vertices...\n",
      "Assigned 119000 vertices...\n",
      "Assigned 120000 vertices...\n",
      "Assigned 121000 vertices...\n",
      "Assigned 122000 vertices...\n",
      "Assigned 123000 vertices...\n",
      "Assigned 124000 vertices...\n",
      "Assigned 125000 vertices...\n",
      "Assigned 126000 vertices...\n",
      "Assigned 127000 vertices...\n",
      "Assigned 128000 vertices...\n",
      "Assigned 129000 vertices...\n",
      "Assigned 130000 vertices...\n",
      "Assigned 131000 vertices...\n"
     ]
    }
   ],
   "source": [
    "vertex_2_px_dict = coords_to_vertices(pcs, coords, return_distances=True)"
   ]
  },
  {
   "cell_type": "code",
   "execution_count": 24,
   "id": "df6fcc52",
   "metadata": {},
   "outputs": [
    {
     "data": {
      "text/plain": [
       "331776"
      ]
     },
     "execution_count": 24,
     "metadata": {},
     "output_type": "execute_result"
    }
   ],
   "source": [
    "len(vertex_2_px_dict.keys())"
   ]
  },
  {
   "cell_type": "code",
   "execution_count": 25,
   "id": "d7580824",
   "metadata": {},
   "outputs": [
    {
     "data": {
      "text/plain": [
       "331776"
      ]
     },
     "execution_count": 25,
     "metadata": {},
     "output_type": "execute_result"
    }
   ],
   "source": [
    "576**2"
   ]
  },
  {
   "cell_type": "code",
   "execution_count": 137,
   "id": "8f1f8197",
   "metadata": {},
   "outputs": [],
   "source": [
    "save = False\n",
    "if save:\n",
    "    with open('vertex_2_px_dict.pkl', 'wb') as f:\n",
    "        pickle.dump(vertex_2_px_dict, f)"
   ]
  },
  {
   "cell_type": "code",
   "execution_count": 138,
   "id": "fd5a06ff",
   "metadata": {
    "scrolled": true
   },
   "outputs": [
    {
     "data": {
      "text/plain": [
       "331776"
      ]
     },
     "execution_count": 138,
     "metadata": {},
     "output_type": "execute_result"
    }
   ],
   "source": [
    "len(vertex_2_px_dict.keys())"
   ]
  },
  {
   "cell_type": "code",
   "execution_count": 45,
   "id": "6c38178f",
   "metadata": {},
   "outputs": [
    {
     "data": {
      "text/plain": [
       "((576, 576, 3), (131784, 3))"
      ]
     },
     "execution_count": 45,
     "metadata": {},
     "output_type": "execute_result"
    }
   ],
   "source": [
    "pcs.shape, coords.shape"
   ]
  },
  {
   "cell_type": "code",
   "execution_count": 46,
   "id": "9a8b23f1",
   "metadata": {},
   "outputs": [],
   "source": [
    "vcoords_recon = px_2_coord(coords, pcs, vertex_2_px_dict, distance_dict=True)"
   ]
  },
  {
   "cell_type": "code",
   "execution_count": 49,
   "id": "e947f9af",
   "metadata": {},
   "outputs": [
    {
     "data": {
      "text/plain": [
       "18.678983142198913"
      ]
     },
     "execution_count": 49,
     "metadata": {},
     "output_type": "execute_result"
    }
   ],
   "source": [
    "squared_euclidean_errors = np.square(vcoords_recon - coords).sum(axis=1)\n",
    "average_distance_error = np.mean(np.sqrt(squared_euclidean_errors))\n",
    "average_distance_error"
   ]
  },
  {
   "cell_type": "code",
   "execution_count": 56,
   "id": "81cbe973",
   "metadata": {
    "scrolled": true
   },
   "outputs": [
    {
     "data": {
      "image/png": "[encoded data removed]",
      "text/plain": [
       "<Figure size 432x288 with 1 Axes>"
      ]
     },
     "metadata": {
      "needs_background": "light"
     },
     "output_type": "display_data"
    }
   ],
   "source": [
    "plt.hist(squared_euclidean_errors, bins=1000)\n",
    "plt.xlim(0, 100)\n",
    "plt.show()"
   ]
  },
  {
   "cell_type": "code",
   "execution_count": 67,
   "id": "50a5e4f9",
   "metadata": {
    "scrolled": true
   },
   "outputs": [
    {
     "data": {
      "text/plain": [
       "55808"
      ]
     },
     "execution_count": 67,
     "metadata": {},
     "output_type": "execute_result"
    }
   ],
   "source": [
    "len(squared_euclidean_errors[squared_euclidean_errors < 10.0])"
   ]
  },
  {
   "cell_type": "code",
   "execution_count": 68,
   "id": "fe2b2b25",
   "metadata": {},
   "outputs": [],
   "source": [
    "surf_map_recon = np.zeros_like(coords[:, 0])\n",
    "mask = squared_euclidean_errors < 10.0\n",
    "surf_map_recon[mask] = 1.0"
   ]
  },
  {
   "cell_type": "code",
   "execution_count": 5,
   "id": "c72de0f9",
   "metadata": {},
   "outputs": [],
   "source": [
    "plotting.plot_surf(infl, surf_map_recon, view=(30., 90.))"
   ]
  },
  {
   "cell_type": "markdown",
   "id": "328ca8df",
   "metadata": {},
   "source": [
    "## Include downsampling"
   ]
  },
  {
   "cell_type": "code",
   "execution_count": 74,
   "id": "b36c706b",
   "metadata": {},
   "outputs": [],
   "source": [
    "ns = 256\n",
    "\n",
    "img_x = Image.open(imgs[0])\n",
    "img_y = Image.open(imgs[1])\n",
    "img_z = Image.open(imgs[2])\n",
    "\n",
    "img_xdown = img_x.resize((ns, ns))\n",
    "img_ydown = img_y.resize((ns, ns))\n",
    "img_zdown = img_z.resize((ns, ns))\n",
    "\n",
    "np_xdown = np.array(img_xdown)[:, :, 0]  # note: all three color channels are equal; alpha channel irrelevant\n",
    "np_ydown = np.array(img_ydown)[:, :, 0]\n",
    "np_zdown = np.array(img_zdown)[:, :, 0]"
   ]
  },
  {
   "cell_type": "code",
   "execution_count": 156,
   "id": "1e040fe3",
   "metadata": {
    "collapsed": true
   },
   "outputs": [
    {
     "name": "stdout",
     "output_type": "stream",
     "text": [
      "Assigned 0 vertices...\n",
      "Assigned 1000 vertices...\n",
      "Assigned 2000 vertices...\n",
      "Assigned 3000 vertices...\n",
      "Assigned 4000 vertices...\n",
      "Assigned 5000 vertices...\n",
      "Assigned 6000 vertices...\n",
      "Assigned 7000 vertices...\n",
      "Assigned 8000 vertices...\n",
      "Assigned 9000 vertices...\n",
      "Assigned 10000 vertices...\n",
      "Assigned 11000 vertices...\n",
      "Assigned 12000 vertices...\n",
      "Assigned 13000 vertices...\n",
      "Assigned 14000 vertices...\n",
      "Assigned 15000 vertices...\n",
      "Assigned 16000 vertices...\n",
      "Assigned 17000 vertices...\n",
      "Assigned 18000 vertices...\n",
      "Assigned 19000 vertices...\n",
      "Assigned 20000 vertices...\n",
      "Assigned 21000 vertices...\n",
      "Assigned 22000 vertices...\n",
      "Assigned 23000 vertices...\n",
      "Assigned 24000 vertices...\n",
      "Assigned 25000 vertices...\n",
      "Assigned 26000 vertices...\n",
      "Assigned 27000 vertices...\n",
      "Assigned 28000 vertices...\n",
      "Assigned 29000 vertices...\n",
      "Assigned 30000 vertices...\n",
      "Assigned 31000 vertices...\n",
      "Assigned 32000 vertices...\n",
      "Assigned 33000 vertices...\n",
      "Assigned 34000 vertices...\n",
      "Assigned 35000 vertices...\n",
      "Assigned 36000 vertices...\n",
      "Assigned 37000 vertices...\n",
      "Assigned 38000 vertices...\n",
      "Assigned 39000 vertices...\n",
      "Assigned 40000 vertices...\n",
      "Assigned 41000 vertices...\n",
      "Assigned 42000 vertices...\n",
      "Assigned 43000 vertices...\n",
      "Assigned 44000 vertices...\n",
      "Assigned 45000 vertices...\n",
      "Assigned 46000 vertices...\n",
      "Assigned 47000 vertices...\n",
      "Assigned 48000 vertices...\n",
      "Assigned 49000 vertices...\n",
      "Assigned 50000 vertices...\n",
      "Assigned 51000 vertices...\n",
      "Assigned 52000 vertices...\n",
      "Assigned 53000 vertices...\n",
      "Assigned 54000 vertices...\n",
      "Assigned 55000 vertices...\n",
      "Assigned 56000 vertices...\n",
      "Assigned 57000 vertices...\n",
      "Assigned 58000 vertices...\n",
      "Assigned 59000 vertices...\n",
      "Assigned 60000 vertices...\n",
      "Assigned 61000 vertices...\n",
      "Assigned 62000 vertices...\n",
      "Assigned 63000 vertices...\n",
      "Assigned 64000 vertices...\n",
      "Assigned 65000 vertices...\n",
      "Assigned 66000 vertices...\n",
      "Assigned 67000 vertices...\n",
      "Assigned 68000 vertices...\n",
      "Assigned 69000 vertices...\n",
      "Assigned 70000 vertices...\n",
      "Assigned 71000 vertices...\n",
      "Assigned 72000 vertices...\n",
      "Assigned 73000 vertices...\n",
      "Assigned 74000 vertices...\n",
      "Assigned 75000 vertices...\n",
      "Assigned 76000 vertices...\n",
      "Assigned 77000 vertices...\n",
      "Assigned 78000 vertices...\n",
      "Assigned 79000 vertices...\n",
      "Assigned 80000 vertices...\n",
      "Assigned 81000 vertices...\n",
      "Assigned 82000 vertices...\n",
      "Assigned 83000 vertices...\n",
      "Assigned 84000 vertices...\n",
      "Assigned 85000 vertices...\n",
      "Assigned 86000 vertices...\n",
      "Assigned 87000 vertices...\n",
      "Assigned 88000 vertices...\n",
      "Assigned 89000 vertices...\n",
      "Assigned 90000 vertices...\n",
      "Assigned 91000 vertices...\n",
      "Assigned 92000 vertices...\n",
      "Assigned 93000 vertices...\n",
      "Assigned 94000 vertices...\n",
      "Assigned 95000 vertices...\n",
      "Assigned 96000 vertices...\n",
      "Assigned 97000 vertices...\n",
      "Assigned 98000 vertices...\n",
      "Assigned 99000 vertices...\n",
      "Assigned 100000 vertices...\n",
      "Assigned 101000 vertices...\n",
      "Assigned 102000 vertices...\n",
      "Assigned 103000 vertices...\n",
      "Assigned 104000 vertices...\n",
      "Assigned 105000 vertices...\n",
      "Assigned 106000 vertices...\n",
      "Assigned 107000 vertices...\n",
      "Assigned 108000 vertices...\n",
      "Assigned 109000 vertices...\n",
      "Assigned 110000 vertices...\n",
      "Assigned 111000 vertices...\n",
      "Assigned 112000 vertices...\n",
      "Assigned 113000 vertices...\n",
      "Assigned 114000 vertices...\n",
      "Assigned 115000 vertices...\n",
      "Assigned 116000 vertices...\n",
      "Assigned 117000 vertices...\n",
      "Assigned 118000 vertices...\n",
      "Assigned 119000 vertices...\n",
      "Assigned 120000 vertices...\n",
      "Assigned 121000 vertices...\n",
      "Assigned 122000 vertices...\n",
      "Assigned 123000 vertices...\n",
      "Assigned 124000 vertices...\n",
      "Assigned 125000 vertices...\n",
      "Assigned 126000 vertices...\n",
      "Assigned 127000 vertices...\n",
      "Assigned 128000 vertices...\n",
      "Assigned 129000 vertices...\n",
      "Assigned 130000 vertices...\n",
      "Assigned 131000 vertices...\n"
     ]
    }
   ],
   "source": [
    "pcs_down = get_pixel_coords(np_xdown, np_ydown, np_zdown, xrange, yrange, zrange)\n",
    "vertex_2_pxdown_dict = coords_to_vertices(pcs_down, coords)"
   ]
  },
  {
   "cell_type": "code",
   "execution_count": 164,
   "id": "c8f87fe1",
   "metadata": {},
   "outputs": [],
   "source": [
    "coords_recon = px_2_coord(vcoords=coords, pcoords=pcs_down, px_vertex_dict=vertex_2_pxdown_dict)"
   ]
  },
  {
   "cell_type": "code",
   "execution_count": 176,
   "id": "40bce061",
   "metadata": {},
   "outputs": [
    {
     "data": {
      "text/plain": [
       "8.357668123519224"
      ]
     },
     "execution_count": 176,
     "metadata": {},
     "output_type": "execute_result"
    }
   ],
   "source": [
    "squared_euclidean_error = np.square(coords_recon - coords).sum(axis=1)\n",
    "average_distance_error = np.mean(np.sqrt(squared_euclidean_error))\n",
    "average_distance_error"
   ]
  },
  {
   "cell_type": "code",
   "execution_count": 177,
   "id": "a26e4966",
   "metadata": {},
   "outputs": [
    {
     "name": "stdout",
     "output_type": "stream",
     "text": [
      "xrange: (-60.0, 60.0)\n",
      "yrange: (-150.0, 150.0)\n",
      "zrange: (-100.0, 100.0)\n"
     ]
    }
   ],
   "source": [
    "print(f'xrange: {(-xrange, xrange)}')\n",
    "print(f'yrange: {(-yrange, yrange)}')\n",
    "print(f'zrange: {(-zrange, zrange)}')"
   ]
  },
  {
   "cell_type": "markdown",
   "id": "0ddb7f93",
   "metadata": {},
   "source": [
    "## Test on (already-made) parc-jitter images"
   ]
  },
  {
   "cell_type": "code",
   "execution_count": 11,
   "id": "c0dcecd3",
   "metadata": {},
   "outputs": [],
   "source": [
    "parc_dir = '../data/parc-images-jitter-processed/parc'\n",
    "subs_pj = os.listdir(parc_dir)"
   ]
  },
  {
   "cell_type": "code",
   "execution_count": 12,
   "id": "f5798ec2",
   "metadata": {},
   "outputs": [
    {
     "data": {
      "text/plain": [
       "'sub-NDARMX277VHC-206.24-84.84-parc.npy'"
      ]
     },
     "execution_count": 12,
     "metadata": {},
     "output_type": "execute_result"
    }
   ],
   "source": [
    "npy0_fn = subs_pj[0]\n",
    "npy0_fn"
   ]
  },
  {
   "cell_type": "code",
   "execution_count": 13,
   "id": "bc0e8087",
   "metadata": {},
   "outputs": [],
   "source": [
    "eid0 = npy0_fn[:16] "
   ]
  },
  {
   "cell_type": "code",
   "execution_count": 49,
   "id": "f3392e05",
   "metadata": {},
   "outputs": [],
   "source": [
    "def angles_from_fname(fname, split_str='parc'):\n",
    "    astr0 = fname.split(split_str)[0][17:-1]\n",
    "    astr01 = astr0.split('-')\n",
    "    m1 = -1 if astr01[0] == '' else 1\n",
    "    m2 = -1 if astr01[-2] == '' else 1\n",
    "    astr02 = [float(s) for s in astr01 if s != '']\n",
    "    astr02[0] *= m1\n",
    "    astr02[1] *= m2\n",
    "    return astr02"
   ]
  },
  {
   "cell_type": "code",
   "execution_count": 50,
   "id": "3de9dce7",
   "metadata": {},
   "outputs": [
    {
     "data": {
      "text/plain": [
       "[206.24, 84.84]"
      ]
     },
     "execution_count": 50,
     "metadata": {},
     "output_type": "execute_result"
    }
   ],
   "source": [
    "a0 = angles_from_fname(npy0_fn)\n",
    "a0"
   ]
  },
  {
   "cell_type": "code",
   "execution_count": 16,
   "id": "84eb6a00",
   "metadata": {},
   "outputs": [
    {
     "data": {
      "text/plain": [
       "(256, 256)"
      ]
     },
     "execution_count": 16,
     "metadata": {},
     "output_type": "execute_result"
    }
   ],
   "source": [
    "npy0 = np.load(f'{parc_dir}/{npy0_fn}')\n",
    "npy0.shape"
   ]
  },
  {
   "cell_type": "code",
   "execution_count": 17,
   "id": "9b27fc98",
   "metadata": {},
   "outputs": [
    {
     "data": {
      "text/plain": [
       "['surf', 'label', 'touch', 'stats', 'tmp', 'scripts', 'trash', 'mri']"
      ]
     },
     "execution_count": 17,
     "metadata": {},
     "output_type": "execute_result"
    }
   ],
   "source": [
    "subdir0 = f'{hbn_dir}/{eid0}'\n",
    "os.listdir(subdir0)"
   ]
  },
  {
   "cell_type": "code",
   "execution_count": 18,
   "id": "ad1bc124",
   "metadata": {},
   "outputs": [],
   "source": [
    "savedir='.'"
   ]
  },
  {
   "cell_type": "code",
   "execution_count": 19,
   "id": "0d98f298",
   "metadata": {},
   "outputs": [],
   "source": [
    "make_subject_images(subdir0, savedir=savedir, save_prefix=eid0, a=a0)"
   ]
  },
  {
   "cell_type": "code",
   "execution_count": 24,
   "id": "9a3bc757",
   "metadata": {},
   "outputs": [],
   "source": [
    "out_path='.'"
   ]
  },
  {
   "cell_type": "code",
   "execution_count": 26,
   "id": "135606d3",
   "metadata": {},
   "outputs": [],
   "source": [
    "coord_imgs_fns0 = [s for s in os.listdir(out_path) if eid0 in s] "
   ]
  },
  {
   "cell_type": "code",
   "execution_count": 29,
   "id": "36cfd6e6",
   "metadata": {},
   "outputs": [],
   "source": [
    "coord_imgs_fns0 = sorted(coord_imgs_fns0)"
   ]
  },
  {
   "cell_type": "code",
   "execution_count": 30,
   "id": "fd6a4ec0",
   "metadata": {},
   "outputs": [],
   "source": [
    "img02 = Image.open(coord_imgs_fns0[2])"
   ]
  },
  {
   "cell_type": "code",
   "execution_count": 31,
   "id": "997bc91a",
   "metadata": {},
   "outputs": [
    {
     "data": {
      "text/plain": [
       "<matplotlib.image.AxesImage at 0x7f45cf5e4640>"
      ]
     },
     "execution_count": 31,
     "metadata": {},
     "output_type": "execute_result"
    },
    {
     "data": {
      "image/png": "[encoded data removed]",
      "text/plain": [
       "<Figure size 720x720 with 2 Axes>"
      ]
     },
     "metadata": {
      "needs_background": "light"
     },
     "output_type": "display_data"
    }
   ],
   "source": [
    "fig, ax = plt.subplots(1, 2, figsize=(10, 10))\n",
    "ax[0].imshow(npy0)\n",
    "ax[1].imshow(img02.resize((256, 256)))"
   ]
  },
  {
   "cell_type": "code",
   "execution_count": 33,
   "id": "05f1b5ef",
   "metadata": {},
   "outputs": [],
   "source": [
    "ns = 256\n",
    "\n",
    "imgs = coord_imgs_fns0\n",
    "\n",
    "img_x = Image.open(imgs[0])\n",
    "img_y = Image.open(imgs[1])\n",
    "img_z = Image.open(imgs[2])\n",
    "\n",
    "img_xdown = img_x.resize((ns, ns))\n",
    "img_ydown = img_y.resize((ns, ns))\n",
    "img_zdown = img_z.resize((ns, ns))\n",
    "\n",
    "np_xdown = np.array(img_xdown)[:, :, 0]  # note: all three color channels are equal; alpha channel irrelevant\n",
    "np_ydown = np.array(img_ydown)[:, :, 0]\n",
    "np_zdown = np.array(img_zdown)[:, :, 0]"
   ]
  },
  {
   "cell_type": "code",
   "execution_count": 36,
   "id": "e96169f6",
   "metadata": {},
   "outputs": [
    {
     "data": {
      "text/plain": [
       "(17, 255)"
      ]
     },
     "execution_count": 36,
     "metadata": {},
     "output_type": "execute_result"
    }
   ],
   "source": [
    "np_xdown.min(), np_xdown.max()"
   ]
  },
  {
   "cell_type": "code",
   "execution_count": 39,
   "id": "6ca4533f",
   "metadata": {},
   "outputs": [],
   "source": [
    "sub0_infl = f'{hbn_dir}/{eid0}/surf/lh.inflated'\n",
    "sub0_curv = f'{hbn_dir}/{eid0}/surf/lh.curv'\n",
    "sub0_parc = f'{hbn_dir}/{eid0}/label/{parc_filename}'\n",
    "\n",
    "infl0 = surface.load_surf_mesh(sub0_infl)\n",
    "curv0 = surface.load_surf_data(sub0_curv)\n",
    "parc0 = surface.load_surf_data(sub0_parc)\n",
    "coords0 = infl0.coordinates"
   ]
  },
  {
   "cell_type": "code",
   "execution_count": 40,
   "id": "16e10f7a",
   "metadata": {},
   "outputs": [
    {
     "data": {
      "text/plain": [
       "(130418, 3)"
      ]
     },
     "execution_count": 40,
     "metadata": {},
     "output_type": "execute_result"
    }
   ],
   "source": [
    "coords0.shape"
   ]
  },
  {
   "cell_type": "code",
   "execution_count": 41,
   "id": "9becc0f4",
   "metadata": {
    "scrolled": true
   },
   "outputs": [
    {
     "name": "stdout",
     "output_type": "stream",
     "text": [
      "Assigned 0 vertices...\n",
      "Assigned 1000 vertices...\n",
      "Assigned 2000 vertices...\n",
      "Assigned 3000 vertices...\n",
      "Assigned 4000 vertices...\n",
      "Assigned 5000 vertices...\n",
      "Assigned 6000 vertices...\n",
      "Assigned 7000 vertices...\n",
      "Assigned 8000 vertices...\n",
      "Assigned 9000 vertices...\n",
      "Assigned 10000 vertices...\n",
      "Assigned 11000 vertices...\n",
      "Assigned 12000 vertices...\n",
      "Assigned 13000 vertices...\n",
      "Assigned 14000 vertices...\n",
      "Assigned 15000 vertices...\n",
      "Assigned 16000 vertices...\n",
      "Assigned 17000 vertices...\n",
      "Assigned 18000 vertices...\n",
      "Assigned 19000 vertices...\n",
      "Assigned 20000 vertices...\n",
      "Assigned 21000 vertices...\n",
      "Assigned 22000 vertices...\n",
      "Assigned 23000 vertices...\n",
      "Assigned 24000 vertices...\n",
      "Assigned 25000 vertices...\n",
      "Assigned 26000 vertices...\n",
      "Assigned 27000 vertices...\n",
      "Assigned 28000 vertices...\n",
      "Assigned 29000 vertices...\n",
      "Assigned 30000 vertices...\n",
      "Assigned 31000 vertices...\n",
      "Assigned 32000 vertices...\n",
      "Assigned 33000 vertices...\n",
      "Assigned 34000 vertices...\n",
      "Assigned 35000 vertices...\n",
      "Assigned 36000 vertices...\n",
      "Assigned 37000 vertices...\n",
      "Assigned 38000 vertices...\n",
      "Assigned 39000 vertices...\n",
      "Assigned 40000 vertices...\n",
      "Assigned 41000 vertices...\n",
      "Assigned 42000 vertices...\n",
      "Assigned 43000 vertices...\n",
      "Assigned 44000 vertices...\n",
      "Assigned 45000 vertices...\n",
      "Assigned 46000 vertices...\n",
      "Assigned 47000 vertices...\n",
      "Assigned 48000 vertices...\n",
      "Assigned 49000 vertices...\n",
      "Assigned 50000 vertices...\n",
      "Assigned 51000 vertices...\n",
      "Assigned 52000 vertices...\n",
      "Assigned 53000 vertices...\n",
      "Assigned 54000 vertices...\n",
      "Assigned 55000 vertices...\n",
      "Assigned 56000 vertices...\n",
      "Assigned 57000 vertices...\n",
      "Assigned 58000 vertices...\n",
      "Assigned 59000 vertices...\n",
      "Assigned 60000 vertices...\n",
      "Assigned 61000 vertices...\n",
      "Assigned 62000 vertices...\n",
      "Assigned 63000 vertices...\n",
      "Assigned 64000 vertices...\n",
      "Assigned 65000 vertices...\n",
      "Assigned 66000 vertices...\n",
      "Assigned 67000 vertices...\n",
      "Assigned 68000 vertices...\n",
      "Assigned 69000 vertices...\n",
      "Assigned 70000 vertices...\n",
      "Assigned 71000 vertices...\n",
      "Assigned 72000 vertices...\n",
      "Assigned 73000 vertices...\n",
      "Assigned 74000 vertices...\n",
      "Assigned 75000 vertices...\n",
      "Assigned 76000 vertices...\n",
      "Assigned 77000 vertices...\n",
      "Assigned 78000 vertices...\n",
      "Assigned 79000 vertices...\n",
      "Assigned 80000 vertices...\n",
      "Assigned 81000 vertices...\n",
      "Assigned 82000 vertices...\n",
      "Assigned 83000 vertices...\n",
      "Assigned 84000 vertices...\n",
      "Assigned 85000 vertices...\n",
      "Assigned 86000 vertices...\n",
      "Assigned 87000 vertices...\n",
      "Assigned 88000 vertices...\n",
      "Assigned 89000 vertices...\n",
      "Assigned 90000 vertices...\n",
      "Assigned 91000 vertices...\n",
      "Assigned 92000 vertices...\n",
      "Assigned 93000 vertices...\n",
      "Assigned 94000 vertices...\n",
      "Assigned 95000 vertices...\n",
      "Assigned 96000 vertices...\n",
      "Assigned 97000 vertices...\n",
      "Assigned 98000 vertices...\n",
      "Assigned 99000 vertices...\n",
      "Assigned 100000 vertices...\n",
      "Assigned 101000 vertices...\n",
      "Assigned 102000 vertices...\n",
      "Assigned 103000 vertices...\n",
      "Assigned 104000 vertices...\n",
      "Assigned 105000 vertices...\n",
      "Assigned 106000 vertices...\n",
      "Assigned 107000 vertices...\n",
      "Assigned 108000 vertices...\n",
      "Assigned 109000 vertices...\n",
      "Assigned 110000 vertices...\n",
      "Assigned 111000 vertices...\n",
      "Assigned 112000 vertices...\n",
      "Assigned 113000 vertices...\n",
      "Assigned 114000 vertices...\n",
      "Assigned 115000 vertices...\n",
      "Assigned 116000 vertices...\n",
      "Assigned 117000 vertices...\n",
      "Assigned 118000 vertices...\n",
      "Assigned 119000 vertices...\n",
      "Assigned 120000 vertices...\n",
      "Assigned 121000 vertices...\n",
      "Assigned 122000 vertices...\n",
      "Assigned 123000 vertices...\n",
      "Assigned 124000 vertices...\n",
      "Assigned 125000 vertices...\n",
      "Assigned 126000 vertices...\n",
      "Assigned 127000 vertices...\n",
      "Assigned 128000 vertices...\n",
      "Assigned 129000 vertices...\n",
      "Assigned 130000 vertices...\n"
     ]
    }
   ],
   "source": [
    "pcs_down = get_pixel_coords(np_xdown, np_ydown, np_zdown, xrange, yrange, zrange)\n",
    "vertex_2_pxdown_dict = coords_to_vertices(pcs_down, coords0)"
   ]
  },
  {
   "cell_type": "code",
   "execution_count": 42,
   "id": "36b87ba5",
   "metadata": {},
   "outputs": [
    {
     "data": {
      "text/plain": [
       "(65536, 130418)"
      ]
     },
     "execution_count": 42,
     "metadata": {},
     "output_type": "execute_result"
    }
   ],
   "source": [
    "len(vertex_2_pxdown_dict), sum([len(v) for k, v in vertex_2_pxdown_dict.items()])"
   ]
  },
  {
   "cell_type": "code",
   "execution_count": 43,
   "id": "0ef768fe",
   "metadata": {},
   "outputs": [
    {
     "data": {
      "text/plain": [
       "(256, 256, 3)"
      ]
     },
     "execution_count": 43,
     "metadata": {},
     "output_type": "execute_result"
    }
   ],
   "source": [
    "pcs_down.shape"
   ]
  },
  {
   "cell_type": "code",
   "execution_count": 44,
   "id": "6f213958",
   "metadata": {},
   "outputs": [
    {
     "data": {
      "text/plain": [
       "130418"
      ]
     },
     "execution_count": 44,
     "metadata": {},
     "output_type": "execute_result"
    }
   ],
   "source": [
    "sum([len(l) for l in vertex_2_pxdown_dict.values()])"
   ]
  },
  {
   "cell_type": "code",
   "execution_count": 46,
   "id": "a3d11c0c",
   "metadata": {},
   "outputs": [
    {
     "data": {
      "text/plain": [
       "['surf', 'label', 'touch', 'stats', 'tmp', 'scripts', 'trash', 'mri']"
      ]
     },
     "execution_count": 46,
     "metadata": {},
     "output_type": "execute_result"
    }
   ],
   "source": [
    "os.listdir(f'{hbn_dir}/{eid0}')"
   ]
  },
  {
   "cell_type": "code",
   "execution_count": 51,
   "id": "42c66879",
   "metadata": {},
   "outputs": [
    {
     "data": {
      "image/png": "[encoded data removed]",
      "text/plain": [
       "<Figure size 288x288 with 1 Axes>"
      ]
     },
     "execution_count": 51,
     "metadata": {},
     "output_type": "execute_result"
    },
    {
     "data": {
      "image/png": "[encoded data removed]",
      "text/plain": [
       "<Figure size 288x288 with 1 Axes>"
      ]
     },
     "metadata": {
      "needs_background": "light"
     },
     "output_type": "display_data"
    }
   ],
   "source": [
    "plotting.plot_surf(infl0, parc0, view=a0, cmap='viridis')"
   ]
  },
  {
   "cell_type": "code",
   "execution_count": 52,
   "id": "d40341d3",
   "metadata": {},
   "outputs": [
    {
     "data": {
      "text/plain": [
       "((130418, 3), (130418,))"
      ]
     },
     "execution_count": 52,
     "metadata": {},
     "output_type": "execute_result"
    }
   ],
   "source": [
    "coords0.shape, curv0.shape"
   ]
  },
  {
   "cell_type": "code",
   "execution_count": 53,
   "id": "c99c9962",
   "metadata": {},
   "outputs": [
    {
     "data": {
      "text/plain": [
       "(256, 256, 3)"
      ]
     },
     "execution_count": 53,
     "metadata": {},
     "output_type": "execute_result"
    }
   ],
   "source": [
    "pcs_down.shape"
   ]
  },
  {
   "cell_type": "code",
   "execution_count": 54,
   "id": "a860816b",
   "metadata": {},
   "outputs": [],
   "source": [
    "coords_recon = px_2_coord(vcoords=coords0, pcoords=pcs_down, px_vertex_dict=vertex_2_pxdown_dict)"
   ]
  },
  {
   "cell_type": "code",
   "execution_count": 55,
   "id": "395e7cbd",
   "metadata": {},
   "outputs": [
    {
     "data": {
      "text/plain": [
       "(130418, 3)"
      ]
     },
     "execution_count": 55,
     "metadata": {},
     "output_type": "execute_result"
    }
   ],
   "source": [
    "coords_recon.shape"
   ]
  },
  {
   "cell_type": "code",
   "execution_count": 56,
   "id": "21a4f9a4",
   "metadata": {},
   "outputs": [
    {
     "data": {
      "text/plain": [
       "7.913802156442358"
      ]
     },
     "execution_count": 56,
     "metadata": {},
     "output_type": "execute_result"
    }
   ],
   "source": [
    "squared_euclidean_errors = np.square(coords_recon - coords0).sum(axis=1)\n",
    "average_distance_error = np.mean(np.sqrt(squared_euclidean_errors))\n",
    "average_distance_error"
   ]
  },
  {
   "cell_type": "code",
   "execution_count": 66,
   "id": "ecbabbf6",
   "metadata": {},
   "outputs": [],
   "source": [
    "mask = squared_euclidean_errors > 10.0"
   ]
  },
  {
   "cell_type": "code",
   "execution_count": 58,
   "id": "37d97901",
   "metadata": {
    "scrolled": true
   },
   "outputs": [
    {
     "data": {
      "text/plain": [
       "<matplotlib.image.AxesImage at 0x7f460e903610>"
      ]
     },
     "execution_count": 58,
     "metadata": {},
     "output_type": "execute_result"
    },
    {
     "data": {
      "image/png": "[encoded data removed]",
      "text/plain": [
       "<Figure size 720x720 with 1 Axes>"
      ]
     },
     "metadata": {
      "needs_background": "light"
     },
     "output_type": "display_data"
    }
   ],
   "source": [
    "fig, ax = plt.subplots(figsize=(10, 10))\n",
    "plt.imshow(npy0, cmap='tab20')"
   ]
  },
  {
   "cell_type": "code",
   "execution_count": 59,
   "id": "f4a74aad",
   "metadata": {},
   "outputs": [
    {
     "data": {
      "text/plain": [
       "(14.0, 0.0)"
      ]
     },
     "execution_count": 59,
     "metadata": {},
     "output_type": "execute_result"
    }
   ],
   "source": [
    "npy0[150, 120], npy0[0,0]  # cort bg value, image bg value"
   ]
  },
  {
   "cell_type": "code",
   "execution_count": 67,
   "id": "bef46354",
   "metadata": {},
   "outputs": [
    {
     "data": {
      "text/plain": [
       "(130418,)"
      ]
     },
     "execution_count": 67,
     "metadata": {},
     "output_type": "execute_result"
    }
   ],
   "source": [
    "label_map = np.zeros_like(coords0[:, 0])\n",
    "for k, v in vertex_2_pxdown_dict.items():\n",
    "    i, j = k\n",
    "    for vertex in v:\n",
    "        label_map[vertex] = npy0[i, j]\n",
    "label_map.shape"
   ]
  },
  {
   "cell_type": "code",
   "execution_count": 68,
   "id": "6dfa2b23",
   "metadata": {},
   "outputs": [],
   "source": [
    "label_map[mask] = 1.0"
   ]
  },
  {
   "cell_type": "code",
   "execution_count": 69,
   "id": "b9a999d5",
   "metadata": {},
   "outputs": [
    {
     "data": {
      "image/png": "[encoded data removed]",
      "text/plain": [
       "<Figure size 720x720 with 2 Axes>"
      ]
     },
     "execution_count": 69,
     "metadata": {},
     "output_type": "execute_result"
    },
    {
     "data": {
      "image/png": "[encoded data removed]",
      "text/plain": [
       "<Figure size 720x720 with 2 Axes>"
      ]
     },
     "metadata": {
      "needs_background": "light"
     },
     "output_type": "display_data"
    }
   ],
   "source": [
    "fig, ax = plt.subplots(figsize=(10, 10))\n",
    "a = a0\n",
    "plotting.plot_surf_roi(infl0, label_map\n",
    "                       ,view=(a[0], a[1])\n",
    "                       # ,bg_map=test_curv\n",
    "                       # ,bg_on_data=True \n",
    "                       ,figure=fig\n",
    "                       ,cmap='tab20'\n",
    "                       # ,output_file=f'{out_parc_path}/{sub}-{a[0]:.2f}-{a[1]:.2f}-parc.png'   \n",
    "                       # ,threshold=25.0\n",
    "                       # colorbar=True\n",
    "                      )"
   ]
  },
  {
   "cell_type": "code",
   "execution_count": 187,
   "id": "612e2b38",
   "metadata": {},
   "outputs": [],
   "source": [
    "coords_recon[mask] = 1.0"
   ]
  },
  {
   "cell_type": "code",
   "execution_count": 190,
   "id": "b99027c3",
   "metadata": {},
   "outputs": [
    {
     "data": {
      "image/png": "[encoded data removed]",
      "text/plain": [
       "<Figure size 288x288 with 1 Axes>"
      ]
     },
     "execution_count": 190,
     "metadata": {},
     "output_type": "execute_result"
    },
    {
     "data": {
      "image/png": "[encoded data removed]",
      "text/plain": [
       "<Figure size 288x288 with 1 Axes>"
      ]
     },
     "metadata": {
      "needs_background": "light"
     },
     "output_type": "display_data"
    }
   ],
   "source": [
    "plotting.plot_surf(infl0, mask, view=a)"
   ]
  },
  {
   "cell_type": "code",
   "execution_count": 217,
   "id": "38f315e2",
   "metadata": {},
   "outputs": [
    {
     "data": {
      "text/plain": [
       "<matplotlib.image.AxesImage at 0x7fc3b9306ac0>"
      ]
     },
     "execution_count": 217,
     "metadata": {},
     "output_type": "execute_result"
    },
    {
     "data": {
      "image/png": "[encoded data removed]",
      "text/plain": [
       "<Figure size 432x288 with 1 Axes>"
      ]
     },
     "metadata": {
      "needs_background": "light"
     },
     "output_type": "display_data"
    }
   ],
   "source": [
    "plt.imshow(np.nan_to_num(pcs_down[:,:, 1], nan=-200.0))"
   ]
  },
  {
   "cell_type": "code",
   "execution_count": 215,
   "id": "5eed6431",
   "metadata": {},
   "outputs": [
    {
     "data": {
      "text/plain": [
       "99.21568"
      ]
     },
     "execution_count": 215,
     "metadata": {},
     "output_type": "execute_result"
    }
   ],
   "source": [
    "np.nanmax(pcs_down[:,:, 2])"
   ]
  },
  {
   "cell_type": "code",
   "execution_count": null,
   "id": "b8401607",
   "metadata": {},
   "outputs": [],
   "source": [
    "plt.hist(square)"
   ]
  }
 ],
 "metadata": {
  "kernelspec": {
   "display_name": "Python [conda env:torch-ni-ny]",
   "language": "python",
   "name": "conda-env-torch-ni-ny-py"
  },
  "language_info": {
   "codemirror_mode": {
    "name": "ipython",
    "version": 3
   },
   "file_extension": ".py",
   "mimetype": "text/x-python",
   "name": "python",
   "nbconvert_exporter": "python",
   "pygments_lexer": "ipython3",
   "version": "3.9.7"
  }
 },
 "nbformat": 4,
 "nbformat_minor": 5
}
