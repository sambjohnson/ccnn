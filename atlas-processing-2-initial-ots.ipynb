{
 "cells": [
  {
   "cell_type": "markdown",
   "id": "957a6bf3",
   "metadata": {},
   "source": [
    "# Atlas Processing - Initial Image Creation\n",
    "\n",
    "## OTS labels - Bouhali, Wiener\n",
    "\n",
    "- Documentation: https://nilearn.github.io/auto_examples/01_plotting/plot_surf_atlas.html\n",
    "- Note: nilearn's 'surface.load_surface_data' function does not suppport .mgh / .mgz files; must use mri_convert or mris_convert (part of Freesurfer) to first convert to an acceptable format, e.g. .nii"
   ]
  },
  {
   "cell_type": "code",
   "execution_count": 2,
   "id": "9fc6eab9",
   "metadata": {},
   "outputs": [
    {
     "name": "stderr",
     "output_type": "stream",
     "text": [
      "/home/groups/jyeatman/software/anaconda3/envs/torch-ni-ny/lib/python3.9/site-packages/nilearn/datasets/__init__.py:93: FutureWarning: Fetchers from the nilearn.datasets module will be updated in version 0.9 to return python strings instead of bytes and Pandas dataframes instead of Numpy arrays.\n",
      "  warn(\"Fetchers from the nilearn.datasets module will be \"\n"
     ]
    }
   ],
   "source": [
    "import nilearn\n",
    "from nilearn import surface\n",
    "from nilearn import plotting\n",
    "\n",
    "import os\n",
    "import numpy as np\n",
    "import matplotlib.pyplot as plt\n",
    "\n",
    "import pandas as pd\n",
    "# import png  # for reloading / working with previously saved images"
   ]
  },
  {
   "cell_type": "markdown",
   "id": "a1765880",
   "metadata": {},
   "source": [
    "## Set up directories"
   ]
  },
  {
   "cell_type": "code",
   "execution_count": 3,
   "id": "8e6bb06e",
   "metadata": {},
   "outputs": [],
   "source": [
    "# === DIRECTORIES === #\n",
    "\n",
    "# input data directories\n",
    "# overall format:\n",
    "# -- hbn_dir/sub-{EID}/label_subdir/parc_filename\n",
    "\n",
    "hbn_dir = '/scratch/users/samjohns/HBN/BIDS_curated/derivatives/freesurfer'\n",
    "label_subdir = '/label'\n",
    "surf_subdir = '/surf'\n",
    "\n",
    "curv_filename = 'lh.curv'\n",
    "infl_filename = 'lh.inflated'\n",
    "pial_filename = 'lh.pial'\n",
    "parc_filename = 'lh.aparc.a2009s.annot'\n",
    "\n",
    "# output data directories\n",
    "out_data_dir = '/scratch/groups/jyeatman/samjohns-projects/data/atlas'\n",
    "out_parc = out_data_dir + '/parc'\n",
    "out_curv = out_data_dir + '/curv'\n",
    "os.makedirs(out_parc, exist_ok=True)  # ensure image output directory exists\n",
    "os.makedirs(out_curv, exist_ok=True)  # ensure image output directory exists\n",
    "assert os.path.exists(out_curv)\n",
    "\n",
    "# === LABELS === #\n",
    "\n",
    "# important:\n",
    "# select a subset of labels that are visible in  ventral view\n",
    "# label = 43 was borderline and removed for convenience\n",
    "labels_to_plot = [2, 19, 21, 23, 24, 25, 30, 37, 38, 50, 51, 57, 58, 59, 60, 61, 63, 65]"
   ]
  },
  {
   "cell_type": "code",
   "execution_count": 4,
   "id": "e5ae3d58",
   "metadata": {},
   "outputs": [],
   "source": [
    "fname = 'subjects-to-atlas.txt'\n",
    "subjects = [s for s in os.listdir(hbn_dir) if 'sub-' in s]\n",
    "subjects.sort()\n",
    "with open(fname, 'w') as f:\n",
    "    for s in subjects:\n",
    "        f.write(s + '\\n')"
   ]
  },
  {
   "cell_type": "code",
   "execution_count": 5,
   "id": "5626ed07",
   "metadata": {},
   "outputs": [],
   "source": [
    "subjects = subjects[:10]"
   ]
  },
  {
   "cell_type": "markdown",
   "id": "d917ab1f",
   "metadata": {},
   "source": [
    "## Make images"
   ]
  },
  {
   "cell_type": "code",
   "execution_count": 6,
   "id": "6a13b9d0",
   "metadata": {},
   "outputs": [],
   "source": [
    "curv_mask_dir = '/scratch/groups/jyeatman/samjohns-projects/data/curv-mask-jitter'\n",
    "mask_fns = os.listdir(curv_mask_dir)"
   ]
  },
  {
   "cell_type": "code",
   "execution_count": 7,
   "id": "666b3694",
   "metadata": {},
   "outputs": [],
   "source": [
    "def get_angle(s):\n",
    "    angles = s.split('-')[2:4]\n",
    "    angles = [float(a) for a in angles]\n",
    "    return angles\n",
    "\n",
    "def get_eid(s):\n",
    "    return 'sub-' + s.split('-')[1]"
   ]
  },
  {
   "cell_type": "code",
   "execution_count": 8,
   "id": "a090d094",
   "metadata": {},
   "outputs": [],
   "source": [
    "fn_df = pd.DataFrame({'Filename': mask_fns})\n",
    "fn_df['Angles'] = fn_df['Filename'].apply(get_angle)\n",
    "fn_df['EID'] = fn_df['Filename'].apply(get_eid)"
   ]
  },
  {
   "cell_type": "code",
   "execution_count": 9,
   "id": "c83c5337",
   "metadata": {},
   "outputs": [],
   "source": [
    "fn_df.sort_values('EID', inplace=True)"
   ]
  },
  {
   "cell_type": "code",
   "execution_count": 10,
   "id": "c30df230",
   "metadata": {},
   "outputs": [],
   "source": [
    "subjects = list(fn_df['EID'].unique())"
   ]
  },
  {
   "cell_type": "code",
   "execution_count": 11,
   "id": "cfa86d7b",
   "metadata": {},
   "outputs": [
    {
     "data": {
      "text/plain": [
       "2361"
      ]
     },
     "execution_count": 11,
     "metadata": {},
     "output_type": "execute_result"
    }
   ],
   "source": [
    "len(subjects)"
   ]
  },
  {
   "cell_type": "code",
   "execution_count": 12,
   "id": "d1b86605",
   "metadata": {},
   "outputs": [],
   "source": [
    "def make_subject_images(sub, angles):\n",
    "    parc_path = f'{hbn_dir}/{sub}{label_subdir}/{parc_filename}'\n",
    "    curv_path = f'{hbn_dir}/{sub}{surf_subdir}/{curv_filename}'\n",
    "    infl_path = f'{hbn_dir}/{sub}{surf_subdir}/{infl_filename}'\n",
    "    \n",
    "    # check files exist\n",
    "    if not (os.path.exists(parc_path) \n",
    "            and os.path.exists(curv_path) \n",
    "            and os.path.exists(infl_path)\n",
    "           ):\n",
    "        return\n",
    "\n",
    "    parc = surface.load_surf_data(parc_path)\n",
    "    curv = surface.load_surf_data(curv_path)\n",
    "    infl = surface.load_surf_mesh(infl_path)\n",
    "    \n",
    "    selected_parc = np.array([labels_to_plot.index(l) if l in labels_to_plot else -1 for l in parc])\n",
    "    \n",
    "    for a in angles:\n",
    "\n",
    "        fig, ax = plt.subplots(figsize=(8, 8))\n",
    "        plotting.plot_surf_roi(infl, selected_parc\n",
    "                               ,view=(a[0], a[1])\n",
    "                               # ,bg_map=test_curv\n",
    "                               # ,bg_on_data=True \n",
    "                               ,figure=fig\n",
    "                               ,cmap='tab20'\n",
    "                               ,output_file=f'{out_parc}/{sub}-{a[0]}-{a[1]}-parc.png'   \n",
    "                               # ,threshold=25.0\n",
    "                               # colorbar=True\n",
    "                              )\n",
    "\n",
    "        fig, ax = plt.subplots(figsize=(8, 8))\n",
    "        plotting.plot_surf_roi(infl, selected_parc\n",
    "                               ,view=(a[0], a[1])\n",
    "                               ,bg_map=curv\n",
    "                               # ,bg_on_data=True \n",
    "                               ,figure=fig\n",
    "                               ,cmap='tab20'\n",
    "                               ,threshold=25.0\n",
    "                               ,output_file=f'{out_curv}/{sub}-{a[0]}-{a[1]}-curv.png'\n",
    "                               # colorbar=True\n",
    "                              )"
   ]
  },
  {
   "cell_type": "code",
   "execution_count": 60,
   "id": "98653469",
   "metadata": {},
   "outputs": [],
   "source": [
    "done_curv_fn = os.listdir(out_curv)\n",
    "done_df = pd.DataFrame({'Filename': done_curv_fn})\n",
    "done_df['Angles'] = done_df['Filename'].apply(get_angle)\n",
    "done_df['EID'] = done_df['Filename'].apply(get_eid)\n",
    "\n",
    "counts = done_df.groupby('EID', as_index=False).count()\n",
    "counts['Count'] = counts['Angles']\n",
    "del counts['Angles']\n",
    "counts = counts[['EID', 'Count']]\n",
    "\n",
    "done_subjects = list(counts[counts.Count==40]['EID'])\n",
    "subjects_todo = list(set(subjects) - set(done_subjects))"
   ]
  },
  {
   "cell_type": "code",
   "execution_count": 61,
   "id": "3f68a272",
   "metadata": {},
   "outputs": [
    {
     "data": {
      "text/plain": [
       "772"
      ]
     },
     "execution_count": 61,
     "metadata": {},
     "output_type": "execute_result"
    }
   ],
   "source": [
    "len(subjects_todo)"
   ]
  },
  {
   "cell_type": "code",
   "execution_count": null,
   "id": "a7a9edd8",
   "metadata": {},
   "outputs": [],
   "source": [
    "# main loop: don't execute this cell unless you want to go grab a coffee\n",
    "for sub in subjects_todo[:1]:\n",
    "    angles = list(fn_df[fn_df.EID==sub]['Angles'])\n",
    "    make_subject_images(sub, angles)"
   ]
  },
  {
   "cell_type": "code",
   "execution_count": null,
   "id": "2b8b9a91",
   "metadata": {},
   "outputs": [],
   "source": []
  }
 ],
 "metadata": {
  "kernelspec": {
   "display_name": "Python [conda env:torch-ni-ny]",
   "language": "python",
   "name": "conda-env-torch-ni-ny-py"
  },
  "language_info": {
   "codemirror_mode": {
    "name": "ipython",
    "version": 3
   },
   "file_extension": ".py",
   "mimetype": "text/x-python",
   "name": "python",
   "nbconvert_exporter": "python",
   "pygments_lexer": "ipython3",
   "version": "3.9.7"
  }
 },
 "nbformat": 4,
 "nbformat_minor": 5
}
